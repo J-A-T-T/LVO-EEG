{
 "cells": [
  {
   "cell_type": "code",
   "execution_count": 1,
   "metadata": {},
   "outputs": [],
   "source": [
    "import numpy as np\n",
    "import pandas as pd\n",
    "import matplotlib.pyplot as plt\n",
    "import seaborn as sns\n",
    "from empiricaldist import Pmf, Cdf\n",
    "import plotly.express as ex\n",
    "from plotly.subplots import make_subplots\n",
    "import plotly.graph_objs as go\n",
    "from imblearn.over_sampling import SMOTE\n",
    "\n",
    "from sklearn.pipeline import Pipeline\n",
    "from sklearn.preprocessing import StandardScaler\n",
    "from sklearn.model_selection import train_test_split,cross_val_score\n",
    "\n",
    "from sklearn.linear_model import LinearRegression,LogisticRegression\n",
    "from sklearn.tree import DecisionTreeRegressor,DecisionTreeClassifier\n",
    "from sklearn.ensemble import RandomForestClassifier\n",
    "from sklearn.svm import SVC\n",
    "from sklearn.metrics import classification_report,confusion_matrix, accuracy_score\n",
    "%matplotlib inline"
   ]
  },
  {
   "cell_type": "markdown",
   "metadata": {},
   "source": [
    "# Dataset Information\n",
    "This is clinical dataset used to predict whether a patient has LVO or not based on different attributes. The dataset contains 115 patients\n",
    "\n",
    "1. record_id and id\n",
    "2. age\n",
    "3. **gender**\n",
    "    - 0: female\n",
    "    - 1: male\n",
    "4. **onset**\n",
    "5. onset_d_t: onset date time\n",
    "6. reached_hospital: the date and time the patient reached the hospital\n",
    "7. eeg_d_t: EEG date time\n",
    "8. lams: LAMS score\n",
    "9. nihss: NIHSS score\n",
    "10. tpa: Medication given for ischemic stroke\n",
    "    - 0: not give tpa \n",
    "    - 1: gives tpa\n",
    "11. tpa_d_t: TPA date time\n",
    "12. evt: Medication given for acute ischemic stroke\n",
    "    - 0: not give evt \n",
    "    - 1: gives evt\n",
    "13. evt_d_t: EVT date time\n",
    "14. **images___1, images___2, images___3**\n",
    "15. **core**\n",
    "16. **penumbra**\n",
    "17. **hi_index**\n",
    "18. ct_d_t: CT scan date time\n",
    "19. **diagnosis**:\n",
    "20. stroke_severity: \n",
    "    - Scales from 1 (least) to 5 (most) severity \n",
    "21. **stroke**\n",
    "22. **non_stroke_mimic**\n",
    "23. **other_non_stroke**\n",
    "24. **ischemic_location**\n",
    "25. **other_location**\n",
    "26. **occluded_vessel___1,..., 25**\n",
    "27. **occlusion_other**\n",
    "28. **h_age_side**\n",
    "29. **h_age_location**\n",
    "30. **maestro_complete**\n",
    "31. LVO (incl. M2)\n",
    "    - 0: non-LVO\n",
    "    - 1: LVO\n",
    "32. Notes\n",
    "33. time_elapsed\n"
   ]
  },
  {
   "cell_type": "code",
   "execution_count": 2,
   "metadata": {},
   "outputs": [
    {
     "name": "stdout",
     "output_type": "stream",
     "text": [
      "   record_id  id   age  gender  onset         onset_d_t  reached_hospital  \\\n",
      "0          1   1  49.0     2.0    1.0   2020-10-19 9:25  2020-10-19 11:04   \n",
      "1          2   2  53.0     1.0    2.0  2020-10-17 12:00  2020-10-20 10:53   \n",
      "2          3   3  59.0     1.0    1.0   2020-10-22 5:30  2020-10-22 13:48   \n",
      "3          4   4  92.0     2.0    2.0   2020-10-23 4:00  2020-10-23 14:58   \n",
      "4          5   5  67.0     1.0    2.0  2020-11-06 11:00  2020-11-06 13:07   \n",
      "\n",
      "            eeg_d_t  lams  nihss  ...  occluded_vessel___17  \\\n",
      "0  2020-10-19 14:37   2.0    8.0  ...                     0   \n",
      "1  2020-10-20 13:17   0.0    2.0  ...                     0   \n",
      "2  2020-10-22 15:30   1.0   10.0  ...                     0   \n",
      "3  2020-10-23 16:25   0.0    4.0  ...                     0   \n",
      "4  2020-11-06 16:30   3.0    4.0  ...                     0   \n",
      "\n",
      "  occluded_vessel___18  occluded_vessel___19 occluded_vessel___20  \\\n",
      "0                    0                     0                    0   \n",
      "1                    0                     1                    0   \n",
      "2                    0                     0                    0   \n",
      "3                    0                     0                    0   \n",
      "4                    0                     1                    0   \n",
      "\n",
      "   occlusion_other  h_age_side   h_age_location  maestro_complete  \\\n",
      "0              NaN         NaN              NaN                 0   \n",
      "1              NaN         NaN              NaN                 0   \n",
      "2              NaN         NaN              NaN                 0   \n",
      "3              NaN         2.0  right occipital                 0   \n",
      "4              NaN         NaN              NaN                 0   \n",
      "\n",
      "   LVO (incl. M2)  Notes  \n",
      "0               1    NaN  \n",
      "1               0    NaN  \n",
      "2               0    NaN  \n",
      "3               0    NaN  \n",
      "4               0    NaN  \n",
      "\n",
      "[5 rows x 54 columns]\n"
     ]
    }
   ],
   "source": [
    "path = 'MAESTRO_DATA.csv'\n",
    "df = pd.read_csv(path)\n",
    "print(df.head(5))"
   ]
  },
  {
   "cell_type": "code",
   "execution_count": 3,
   "metadata": {},
   "outputs": [],
   "source": [
    "# Remove row which we are not supposed to use\n",
    "df = df[df['Notes'] != 'DO NOT USE. No consent']"
   ]
  },
  {
   "cell_type": "code",
   "execution_count": 4,
   "metadata": {},
   "outputs": [],
   "source": [
    "# Rename the LVO columns\n",
    "df = df.rename(columns={\"LVO (incl. M2)\": \"lvo\"})"
   ]
  },
  {
   "cell_type": "code",
   "execution_count": 5,
   "metadata": {},
   "outputs": [],
   "source": [
    "# time elapsed\n",
    "df['reached_hospital'] = pd.to_datetime(df['reached_hospital'])\n",
    "df['eeg_d_t'] = pd.to_datetime(df['eeg_d_t'])\n",
    "df['time_elapsed'] = df['eeg_d_t'] -df['reached_hospital']\n",
    "df['time_elapsed'] = pd.to_timedelta(df['time_elapsed'])\n",
    "df['time_elapsed'] = df['time_elapsed'].dt.total_seconds().div(60).astype(int)"
   ]
  },
  {
   "cell_type": "code",
   "execution_count": 6,
   "metadata": {},
   "outputs": [
    {
     "name": "stdout",
     "output_type": "stream",
     "text": [
      "record_id                 0\n",
      "id                        0\n",
      "age                       0\n",
      "gender                    0\n",
      "onset                     0\n",
      "onset_d_t                 0\n",
      "reached_hospital          0\n",
      "eeg_d_t                   0\n",
      "lams                      0\n",
      "nihss                     0\n",
      "tpa                       0\n",
      "tpa_d_t                  82\n",
      "evt                       0\n",
      "evt_d_t                  85\n",
      "images___1                0\n",
      "images___2                0\n",
      "images___3                0\n",
      "core                     24\n",
      "penumbra                 24\n",
      "hi_index                 61\n",
      "ct_d_t                    0\n",
      "diagnosis                 0\n",
      "stroke_severity          16\n",
      "stroke                   16\n",
      "non_stroke_mimic         98\n",
      "other_non_stroke        104\n",
      "ischemic_location        36\n",
      "other_location          113\n",
      "occluded_vessel___1       0\n",
      "occluded_vessel___2       0\n",
      "occluded_vessel___3       0\n",
      "occluded_vessel___4       0\n",
      "occluded_vessel___5       0\n",
      "occluded_vessel___6       0\n",
      "occluded_vessel___7       0\n",
      "occluded_vessel___8       0\n",
      "occluded_vessel___9       0\n",
      "occluded_vessel___10      0\n",
      "occluded_vessel___11      0\n",
      "occluded_vessel___12      0\n",
      "occluded_vessel___13      0\n",
      "occluded_vessel___14      0\n",
      "occluded_vessel___15      0\n",
      "occluded_vessel___16      0\n",
      "occluded_vessel___17      0\n",
      "occluded_vessel___18      0\n",
      "occluded_vessel___19      0\n",
      "occluded_vessel___20      0\n",
      "occlusion_other         112\n",
      "h_age_side              108\n",
      "h_age_location          108\n",
      "maestro_complete          0\n",
      "lvo                       0\n",
      "Notes                   108\n",
      "time_elapsed              0\n",
      "dtype: int64\n"
     ]
    }
   ],
   "source": [
    "# Count missing values for each column\n",
    "print(df.isnull().sum())"
   ]
  },
  {
   "cell_type": "code",
   "execution_count": 7,
   "metadata": {},
   "outputs": [],
   "source": [
    "#Create dummy variables\n",
    "df['Male'] = [1 if s == 1 else 0 for s in df['gender']]\n",
    "df['Female'] = [1 if s == 2 else 0 for s in df['gender']]\n"
   ]
  },
  {
   "cell_type": "code",
   "execution_count": 8,
   "metadata": {},
   "outputs": [
    {
     "name": "stdout",
     "output_type": "stream",
     "text": [
      "record_id               0.325718\n",
      "id                      0.325718\n",
      "age                    -0.024078\n",
      "gender                  0.231139\n",
      "onset                   0.204236\n",
      "lams                    0.629662\n",
      "nihss                   0.661817\n",
      "tpa                     0.223377\n",
      "evt                     0.737427\n",
      "images___1                   NaN\n",
      "images___2              0.142911\n",
      "images___3              0.366478\n",
      "core                    0.404467\n",
      "penumbra                0.627674\n",
      "hi_index                0.094565\n",
      "diagnosis              -0.302815\n",
      "stroke_severity         0.551314\n",
      "stroke                 -0.411103\n",
      "non_stroke_mimic             NaN\n",
      "ischemic_location      -0.083329\n",
      "occluded_vessel___1     0.125525\n",
      "occluded_vessel___2     0.254450\n",
      "occluded_vessel___3     0.125525\n",
      "occluded_vessel___4     0.219366\n",
      "occluded_vessel___5     0.413764\n",
      "occluded_vessel___6     0.413764\n",
      "occluded_vessel___7     0.519395\n",
      "occluded_vessel___8     0.436061\n",
      "occluded_vessel___9    -0.009015\n",
      "occluded_vessel___10         NaN\n",
      "occluded_vessel___11    0.125525\n",
      "occluded_vessel___12         NaN\n",
      "occluded_vessel___13    0.125525\n",
      "occluded_vessel___14         NaN\n",
      "occluded_vessel___15         NaN\n",
      "occluded_vessel___16         NaN\n",
      "occluded_vessel___17         NaN\n",
      "occluded_vessel___18         NaN\n",
      "occluded_vessel___19   -0.478349\n",
      "occluded_vessel___20   -0.009015\n",
      "h_age_side                   NaN\n",
      "maestro_complete             NaN\n",
      "lvo                     1.000000\n",
      "time_elapsed            0.108060\n",
      "Male                   -0.231139\n",
      "Female                  0.231139\n",
      "Name: lvo, dtype: float64\n"
     ]
    }
   ],
   "source": [
    "# gauge correlation between columns\n",
    "print(df.corr(method ='pearson')['lvo'])\n"
   ]
  },
  {
   "cell_type": "code",
   "execution_count": 9,
   "metadata": {},
   "outputs": [
    {
     "data": {
      "image/png": "[encoded data removed]",
      "text/plain": [
       "<Figure size 1008x576 with 2 Axes>"
      ]
     },
     "metadata": {
      "needs_background": "light"
     },
     "output_type": "display_data"
    }
   ],
   "source": [
    "plt.figure(figsize=(14,8))\n",
    "df_subset = df[['age', 'Male', 'Female', 'lams', 'stroke', 'nihss', 'lvo','time_elapsed']]\n",
    "corr = df_subset.corr()\n",
    "heatmap = sns.heatmap(corr, cmap=\"Blues\")\n",
    "plt.show()"
   ]
  },
  {
   "cell_type": "code",
   "execution_count": 10,
   "metadata": {},
   "outputs": [],
   "source": [
    "# Select the features that are available onsite\n",
    "# Select gender for now (until discover 0 is for male or female)\n",
    "onsite_features = ['age', 'gender', 'lams', 'nihss', 'lvo','time_elapsed']\n",
    "df_onsite = df[onsite_features]\n"
   ]
  },
  {
   "cell_type": "code",
   "execution_count": 11,
   "metadata": {},
   "outputs": [
    {
     "name": "stdout",
     "output_type": "stream",
     "text": [
      "<class 'pandas.core.frame.DataFrame'>\n",
      "Int64Index: 114 entries, 0 to 114\n",
      "Data columns (total 6 columns):\n",
      " #   Column        Non-Null Count  Dtype  \n",
      "---  ------        --------------  -----  \n",
      " 0   age           114 non-null    float64\n",
      " 1   gender        114 non-null    float64\n",
      " 2   lams          114 non-null    float64\n",
      " 3   nihss         114 non-null    float64\n",
      " 4   lvo           114 non-null    int64  \n",
      " 5   time_elapsed  114 non-null    int64  \n",
      "dtypes: float64(4), int64(2)\n",
      "memory usage: 6.2 KB\n"
     ]
    }
   ],
   "source": [
    "# Information about the data (onsite)\n",
    "# data_count = pd.DataFrame(df_onsite.count()).T.rename({0:'total data'})\n",
    "# data_null = pd.DataFrame(df_onsite.isna().sum()).T.rename({0:'total null'})\n",
    "# data_null_percentage = pd.DataFrame(100*df_onsite.isna().sum()/df_onsite.shape[0]).T.rename({0:'percentage null'})\n",
    "# data_info = pd.concat([data_count, data_null, data_null_percentage.round(2)], axis=0)\n",
    "# data_info\n",
    "df_onsite.info()\n"
   ]
  },
  {
   "cell_type": "markdown",
   "metadata": {},
   "source": [
    "There are 16 missing values for stroke variable. We can use either mean/median or simple decision tree to impute the missing values"
   ]
  },
  {
   "cell_type": "code",
   "execution_count": 12,
   "metadata": {},
   "outputs": [
    {
     "data": {
      "text/plain": [
       "0"
      ]
     },
     "execution_count": 12,
     "metadata": {},
     "output_type": "execute_result"
    }
   ],
   "source": [
    "# Check the duplication in our onsite dataset\n",
    "df_onsite.duplicated().sum()"
   ]
  },
  {
   "cell_type": "code",
   "execution_count": 13,
   "metadata": {},
   "outputs": [
    {
     "data": {
      "application/vnd.plotly.v1+json": {
       "config": {
        "plotlyServerURL": "https://plot.ly"
       },
       "data": [
        {
         "domain": {
          "x": [
           0,
           1
          ],
          "y": [
           0,
           1
          ]
         },
         "hovertemplate": "lvo=%{label}<extra></extra>",
         "labels": [
          1,
          0,
          0,
          0,
          0,
          1,
          1,
          0,
          1,
          0,
          1,
          1,
          0,
          0,
          0,
          0,
          0,
          0,
          0,
          0,
          1,
          0,
          0,
          0,
          0,
          1,
          0,
          0,
          0,
          0,
          0,
          1,
          0,
          0,
          0,
          0,
          0,
          0,
          0,
          0,
          0,
          0,
          0,
          0,
          0,
          0,
          0,
          1,
          1,
          0,
          0,
          0,
          0,
          0,
          1,
          0,
          0,
          0,
          0,
          0,
          0,
          1,
          0,
          0,
          0,
          0,
          1,
          1,
          1,
          0,
          0,
          0,
          0,
          1,
          0,
          0,
          1,
          0,
          0,
          0,
          1,
          0,
          0,
          1,
          1,
          1,
          1,
          1,
          1,
          1,
          1,
          0,
          1,
          1,
          1,
          0,
          1,
          0,
          0,
          0,
          0,
          1,
          0,
          1,
          1,
          0,
          0,
          1,
          1,
          1,
          1,
          1,
          1,
          1
         ],
         "legendgroup": "",
         "name": "",
         "showlegend": true,
         "type": "pie"
        }
       ],
       "layout": {
        "legend": {
         "tracegroupgap": 0
        },
        "margin": {
         "t": 60
        },
        "template": {
         "data": {
          "bar": [
           {
            "error_x": {
             "color": "#2a3f5f"
            },
            "error_y": {
             "color": "#2a3f5f"
            },
            "marker": {
             "line": {
              "color": "#E5ECF6",
              "width": 0.5
             },
             "pattern": {
              "fillmode": "overlay",
              "size": 10,
              "solidity": 0.2
             }
            },
            "type": "bar"
           }
          ],
          "barpolar": [
           {
            "marker": {
             "line": {
              "color": "#E5ECF6",
              "width": 0.5
             },
             "pattern": {
              "fillmode": "overlay",
              "size": 10,
              "solidity": 0.2
             }
            },
            "type": "barpolar"
           }
          ],
          "carpet": [
           {
            "aaxis": {
             "endlinecolor": "#2a3f5f",
             "gridcolor": "white",
             "linecolor": "white",
             "minorgridcolor": "white",
             "startlinecolor": "#2a3f5f"
            },
            "baxis": {
             "endlinecolor": "#2a3f5f",
             "gridcolor": "white",
             "linecolor": "white",
             "minorgridcolor": "white",
             "startlinecolor": "#2a3f5f"
            },
            "type": "carpet"
           }
          ],
          "choropleth": [
           {
            "colorbar": {
             "outlinewidth": 0,
             "ticks": ""
            },
            "type": "choropleth"
           }
          ],
          "contour": [
           {
            "colorbar": {
             "outlinewidth": 0,
             "ticks": ""
            },
            "colorscale": [
             [
              0,
              "#0d0887"
             ],
             [
              0.1111111111111111,
              "#46039f"
             ],
             [
              0.2222222222222222,
              "#7201a8"
             ],
             [
              0.3333333333333333,
              "#9c179e"
             ],
             [
              0.4444444444444444,
              "#bd3786"
             ],
             [
              0.5555555555555556,
              "#d8576b"
             ],
             [
              0.6666666666666666,
              "#ed7953"
             ],
             [
              0.7777777777777778,
              "#fb9f3a"
             ],
             [
              0.8888888888888888,
              "#fdca26"
             ],
             [
              1,
              "#f0f921"
             ]
            ],
            "type": "contour"
           }
          ],
          "contourcarpet": [
           {
            "colorbar": {
             "outlinewidth": 0,
             "ticks": ""
            },
            "type": "contourcarpet"
           }
          ],
          "heatmap": [
           {
            "colorbar": {
             "outlinewidth": 0,
             "ticks": ""
            },
            "colorscale": [
             [
              0,
              "#0d0887"
             ],
             [
              0.1111111111111111,
              "#46039f"
             ],
             [
              0.2222222222222222,
              "#7201a8"
             ],
             [
              0.3333333333333333,
              "#9c179e"
             ],
             [
              0.4444444444444444,
              "#bd3786"
             ],
             [
              0.5555555555555556,
              "#d8576b"
             ],
             [
              0.6666666666666666,
              "#ed7953"
             ],
             [
              0.7777777777777778,
              "#fb9f3a"
             ],
             [
              0.8888888888888888,
              "#fdca26"
             ],
             [
              1,
              "#f0f921"
             ]
            ],
            "type": "heatmap"
           }
          ],
          "heatmapgl": [
           {
            "colorbar": {
             "outlinewidth": 0,
             "ticks": ""
            },
            "colorscale": [
             [
              0,
              "#0d0887"
             ],
             [
              0.1111111111111111,
              "#46039f"
             ],
             [
              0.2222222222222222,
              "#7201a8"
             ],
             [
              0.3333333333333333,
              "#9c179e"
             ],
             [
              0.4444444444444444,
              "#bd3786"
             ],
             [
              0.5555555555555556,
              "#d8576b"
             ],
             [
              0.6666666666666666,
              "#ed7953"
             ],
             [
              0.7777777777777778,
              "#fb9f3a"
             ],
             [
              0.8888888888888888,
              "#fdca26"
             ],
             [
              1,
              "#f0f921"
             ]
            ],
            "type": "heatmapgl"
           }
          ],
          "histogram": [
           {
            "marker": {
             "pattern": {
              "fillmode": "overlay",
              "size": 10,
              "solidity": 0.2
             }
            },
            "type": "histogram"
           }
          ],
          "histogram2d": [
           {
            "colorbar": {
             "outlinewidth": 0,
             "ticks": ""
            },
            "colorscale": [
             [
              0,
              "#0d0887"
             ],
             [
              0.1111111111111111,
              "#46039f"
             ],
             [
              0.2222222222222222,
              "#7201a8"
             ],
             [
              0.3333333333333333,
              "#9c179e"
             ],
             [
              0.4444444444444444,
              "#bd3786"
             ],
             [
              0.5555555555555556,
              "#d8576b"
             ],
             [
              0.6666666666666666,
              "#ed7953"
             ],
             [
              0.7777777777777778,
              "#fb9f3a"
             ],
             [
              0.8888888888888888,
              "#fdca26"
             ],
             [
              1,
              "#f0f921"
             ]
            ],
            "type": "histogram2d"
           }
          ],
          "histogram2dcontour": [
           {
            "colorbar": {
             "outlinewidth": 0,
             "ticks": ""
            },
            "colorscale": [
             [
              0,
              "#0d0887"
             ],
             [
              0.1111111111111111,
              "#46039f"
             ],
             [
              0.2222222222222222,
              "#7201a8"
             ],
             [
              0.3333333333333333,
              "#9c179e"
             ],
             [
              0.4444444444444444,
              "#bd3786"
             ],
             [
              0.5555555555555556,
              "#d8576b"
             ],
             [
              0.6666666666666666,
              "#ed7953"
             ],
             [
              0.7777777777777778,
              "#fb9f3a"
             ],
             [
              0.8888888888888888,
              "#fdca26"
             ],
             [
              1,
              "#f0f921"
             ]
            ],
            "type": "histogram2dcontour"
           }
          ],
          "mesh3d": [
           {
            "colorbar": {
             "outlinewidth": 0,
             "ticks": ""
            },
            "type": "mesh3d"
           }
          ],
          "parcoords": [
           {
            "line": {
             "colorbar": {
              "outlinewidth": 0,
              "ticks": ""
             }
            },
            "type": "parcoords"
           }
          ],
          "pie": [
           {
            "automargin": true,
            "type": "pie"
           }
          ],
          "scatter": [
           {
            "marker": {
             "colorbar": {
              "outlinewidth": 0,
              "ticks": ""
             }
            },
            "type": "scatter"
           }
          ],
          "scatter3d": [
           {
            "line": {
             "colorbar": {
              "outlinewidth": 0,
              "ticks": ""
             }
            },
            "marker": {
             "colorbar": {
              "outlinewidth": 0,
              "ticks": ""
             }
            },
            "type": "scatter3d"
           }
          ],
          "scattercarpet": [
           {
            "marker": {
             "colorbar": {
              "outlinewidth": 0,
              "ticks": ""
             }
            },
            "type": "scattercarpet"
           }
          ],
          "scattergeo": [
           {
            "marker": {
             "colorbar": {
              "outlinewidth": 0,
              "ticks": ""
             }
            },
            "type": "scattergeo"
           }
          ],
          "scattergl": [
           {
            "marker": {
             "colorbar": {
              "outlinewidth": 0,
              "ticks": ""
             }
            },
            "type": "scattergl"
           }
          ],
          "scattermapbox": [
           {
            "marker": {
             "colorbar": {
              "outlinewidth": 0,
              "ticks": ""
             }
            },
            "type": "scattermapbox"
           }
          ],
          "scatterpolar": [
           {
            "marker": {
             "colorbar": {
              "outlinewidth": 0,
              "ticks": ""
             }
            },
            "type": "scatterpolar"
           }
          ],
          "scatterpolargl": [
           {
            "marker": {
             "colorbar": {
              "outlinewidth": 0,
              "ticks": ""
             }
            },
            "type": "scatterpolargl"
           }
          ],
          "scatterternary": [
           {
            "marker": {
             "colorbar": {
              "outlinewidth": 0,
              "ticks": ""
             }
            },
            "type": "scatterternary"
           }
          ],
          "surface": [
           {
            "colorbar": {
             "outlinewidth": 0,
             "ticks": ""
            },
            "colorscale": [
             [
              0,
              "#0d0887"
             ],
             [
              0.1111111111111111,
              "#46039f"
             ],
             [
              0.2222222222222222,
              "#7201a8"
             ],
             [
              0.3333333333333333,
              "#9c179e"
             ],
             [
              0.4444444444444444,
              "#bd3786"
             ],
             [
              0.5555555555555556,
              "#d8576b"
             ],
             [
              0.6666666666666666,
              "#ed7953"
             ],
             [
              0.7777777777777778,
              "#fb9f3a"
             ],
             [
              0.8888888888888888,
              "#fdca26"
             ],
             [
              1,
              "#f0f921"
             ]
            ],
            "type": "surface"
           }
          ],
          "table": [
           {
            "cells": {
             "fill": {
              "color": "#EBF0F8"
             },
             "line": {
              "color": "white"
             }
            },
            "header": {
             "fill": {
              "color": "#C8D4E3"
             },
             "line": {
              "color": "white"
             }
            },
            "type": "table"
           }
          ]
         },
         "layout": {
          "annotationdefaults": {
           "arrowcolor": "#2a3f5f",
           "arrowhead": 0,
           "arrowwidth": 1
          },
          "autotypenumbers": "strict",
          "coloraxis": {
           "colorbar": {
            "outlinewidth": 0,
            "ticks": ""
           }
          },
          "colorscale": {
           "diverging": [
            [
             0,
             "#8e0152"
            ],
            [
             0.1,
             "#c51b7d"
            ],
            [
             0.2,
             "#de77ae"
            ],
            [
             0.3,
             "#f1b6da"
            ],
            [
             0.4,
             "#fde0ef"
            ],
            [
             0.5,
             "#f7f7f7"
            ],
            [
             0.6,
             "#e6f5d0"
            ],
            [
             0.7,
             "#b8e186"
            ],
            [
             0.8,
             "#7fbc41"
            ],
            [
             0.9,
             "#4d9221"
            ],
            [
             1,
             "#276419"
            ]
           ],
           "sequential": [
            [
             0,
             "#0d0887"
            ],
            [
             0.1111111111111111,
             "#46039f"
            ],
            [
             0.2222222222222222,
             "#7201a8"
            ],
            [
             0.3333333333333333,
             "#9c179e"
            ],
            [
             0.4444444444444444,
             "#bd3786"
            ],
            [
             0.5555555555555556,
             "#d8576b"
            ],
            [
             0.6666666666666666,
             "#ed7953"
            ],
            [
             0.7777777777777778,
             "#fb9f3a"
            ],
            [
             0.8888888888888888,
             "#fdca26"
            ],
            [
             1,
             "#f0f921"
            ]
           ],
           "sequentialminus": [
            [
             0,
             "#0d0887"
            ],
            [
             0.1111111111111111,
             "#46039f"
            ],
            [
             0.2222222222222222,
             "#7201a8"
            ],
            [
             0.3333333333333333,
             "#9c179e"
            ],
            [
             0.4444444444444444,
             "#bd3786"
            ],
            [
             0.5555555555555556,
             "#d8576b"
            ],
            [
             0.6666666666666666,
             "#ed7953"
            ],
            [
             0.7777777777777778,
             "#fb9f3a"
            ],
            [
             0.8888888888888888,
             "#fdca26"
            ],
            [
             1,
             "#f0f921"
            ]
           ]
          },
          "colorway": [
           "#636efa",
           "#EF553B",
           "#00cc96",
           "#ab63fa",
           "#FFA15A",
           "#19d3f3",
           "#FF6692",
           "#B6E880",
           "#FF97FF",
           "#FECB52"
          ],
          "font": {
           "color": "#2a3f5f"
          },
          "geo": {
           "bgcolor": "white",
           "lakecolor": "white",
           "landcolor": "#E5ECF6",
           "showlakes": true,
           "showland": true,
           "subunitcolor": "white"
          },
          "hoverlabel": {
           "align": "left"
          },
          "hovermode": "closest",
          "mapbox": {
           "style": "light"
          },
          "paper_bgcolor": "white",
          "plot_bgcolor": "#E5ECF6",
          "polar": {
           "angularaxis": {
            "gridcolor": "white",
            "linecolor": "white",
            "ticks": ""
           },
           "bgcolor": "#E5ECF6",
           "radialaxis": {
            "gridcolor": "white",
            "linecolor": "white",
            "ticks": ""
           }
          },
          "scene": {
           "xaxis": {
            "backgroundcolor": "#E5ECF6",
            "gridcolor": "white",
            "gridwidth": 2,
            "linecolor": "white",
            "showbackground": true,
            "ticks": "",
            "zerolinecolor": "white"
           },
           "yaxis": {
            "backgroundcolor": "#E5ECF6",
            "gridcolor": "white",
            "gridwidth": 2,
            "linecolor": "white",
            "showbackground": true,
            "ticks": "",
            "zerolinecolor": "white"
           },
           "zaxis": {
            "backgroundcolor": "#E5ECF6",
            "gridcolor": "white",
            "gridwidth": 2,
            "linecolor": "white",
            "showbackground": true,
            "ticks": "",
            "zerolinecolor": "white"
           }
          },
          "shapedefaults": {
           "line": {
            "color": "#2a3f5f"
           }
          },
          "ternary": {
           "aaxis": {
            "gridcolor": "white",
            "linecolor": "white",
            "ticks": ""
           },
           "baxis": {
            "gridcolor": "white",
            "linecolor": "white",
            "ticks": ""
           },
           "bgcolor": "#E5ECF6",
           "caxis": {
            "gridcolor": "white",
            "linecolor": "white",
            "ticks": ""
           }
          },
          "title": {
           "x": 0.05
          },
          "xaxis": {
           "automargin": true,
           "gridcolor": "white",
           "linecolor": "white",
           "ticks": "",
           "title": {
            "standoff": 15
           },
           "zerolinecolor": "white",
           "zerolinewidth": 2
          },
          "yaxis": {
           "automargin": true,
           "gridcolor": "white",
           "linecolor": "white",
           "ticks": "",
           "title": {
            "standoff": 15
           },
           "zerolinecolor": "white",
           "zerolinewidth": 2
          }
         }
        },
        "title": {
         "text": "<b>Proportion Of LVO Samples<b>"
        }
       }
      }
     },
     "metadata": {},
     "output_type": "display_data"
    }
   ],
   "source": [
    "fig = ex.pie(df_onsite,names='lvo')\n",
    "fig.update_layout(title='<b>Proportion Of LVO Samples<b>')\n",
    "fig.show()"
   ]
  },
  {
   "cell_type": "markdown",
   "metadata": {},
   "source": [
    "We note the dataset is imbalanced. We can deal with this problem using upscaling"
   ]
  },
  {
   "cell_type": "code",
   "execution_count": 14,
   "metadata": {},
   "outputs": [
    {
     "data": {
      "text/html": [
       "<style type=\"text/css\">\n",
       "#T_2b3e3_row0_col0, #T_2b3e3_row1_col0, #T_2b3e3_row2_col0, #T_2b3e3_row3_col0, #T_2b3e3_row5_col0, #T_2b3e3_row7_col0, #T_2b3e3_row9_col0, #T_2b3e3_row11_col0, #T_2b3e3_row13_col0, #T_2b3e3_row14_col0, #T_2b3e3_row17_col0, #T_2b3e3_row18_col0, #T_2b3e3_row20_col0, #T_2b3e3_row38_col0, #T_2b3e3_row41_col0, #T_2b3e3_row43_col0, #T_2b3e3_row47_col0, #T_2b3e3_row48_col0, #T_2b3e3_row49_col0 {\n",
       "  background-color: #e8e4f0;\n",
       "  color: #000000;\n",
       "}\n",
       "#T_2b3e3_row4_col0, #T_2b3e3_row6_col0, #T_2b3e3_row8_col0, #T_2b3e3_row10_col0, #T_2b3e3_row12_col0, #T_2b3e3_row15_col0, #T_2b3e3_row19_col0, #T_2b3e3_row24_col0, #T_2b3e3_row26_col0, #T_2b3e3_row29_col0, #T_2b3e3_row31_col0, #T_2b3e3_row44_col0, #T_2b3e3_row46_col0 {\n",
       "  background-color: #c4cbe3;\n",
       "  color: #000000;\n",
       "}\n",
       "#T_2b3e3_row16_col0, #T_2b3e3_row23_col0, #T_2b3e3_row28_col0, #T_2b3e3_row32_col0, #T_2b3e3_row34_col0, #T_2b3e3_row35_col0, #T_2b3e3_row39_col0, #T_2b3e3_row40_col0, #T_2b3e3_row42_col0, #T_2b3e3_row45_col0 {\n",
       "  background-color: #91b5d6;\n",
       "  color: #000000;\n",
       "}\n",
       "#T_2b3e3_row21_col0 {\n",
       "  background-color: #045d92;\n",
       "  color: #f1f1f1;\n",
       "}\n",
       "#T_2b3e3_row22_col0, #T_2b3e3_row25_col0, #T_2b3e3_row27_col0, #T_2b3e3_row30_col0 {\n",
       "  background-color: #509ac6;\n",
       "  color: #f1f1f1;\n",
       "}\n",
       "#T_2b3e3_row33_col0, #T_2b3e3_row37_col0 {\n",
       "  background-color: #1379b5;\n",
       "  color: #f1f1f1;\n",
       "}\n",
       "#T_2b3e3_row36_col0 {\n",
       "  background-color: #023858;\n",
       "  color: #f1f1f1;\n",
       "}\n",
       "</style>\n",
       "<table id=\"T_2b3e3\">\n",
       "  <thead>\n",
       "    <tr>\n",
       "      <th class=\"blank level0\" >&nbsp;</th>\n",
       "      <th id=\"T_2b3e3_level0_col0\" class=\"col_heading level0 col0\" >pmf</th>\n",
       "    </tr>\n",
       "    <tr>\n",
       "      <th class=\"index_name level0\" >age</th>\n",
       "      <th class=\"blank col0\" >&nbsp;</th>\n",
       "    </tr>\n",
       "  </thead>\n",
       "  <tbody>\n",
       "    <tr>\n",
       "      <th id=\"T_2b3e3_level0_row0\" class=\"row_heading level0 row0\" >22.000000</th>\n",
       "      <td id=\"T_2b3e3_row0_col0\" class=\"data row0 col0\" >0.008772</td>\n",
       "    </tr>\n",
       "    <tr>\n",
       "      <th id=\"T_2b3e3_level0_row1\" class=\"row_heading level0 row1\" >26.000000</th>\n",
       "      <td id=\"T_2b3e3_row1_col0\" class=\"data row1 col0\" >0.008772</td>\n",
       "    </tr>\n",
       "    <tr>\n",
       "      <th id=\"T_2b3e3_level0_row2\" class=\"row_heading level0 row2\" >33.000000</th>\n",
       "      <td id=\"T_2b3e3_row2_col0\" class=\"data row2 col0\" >0.008772</td>\n",
       "    </tr>\n",
       "    <tr>\n",
       "      <th id=\"T_2b3e3_level0_row3\" class=\"row_heading level0 row3\" >38.000000</th>\n",
       "      <td id=\"T_2b3e3_row3_col0\" class=\"data row3 col0\" >0.008772</td>\n",
       "    </tr>\n",
       "    <tr>\n",
       "      <th id=\"T_2b3e3_level0_row4\" class=\"row_heading level0 row4\" >41.000000</th>\n",
       "      <td id=\"T_2b3e3_row4_col0\" class=\"data row4 col0\" >0.017544</td>\n",
       "    </tr>\n",
       "    <tr>\n",
       "      <th id=\"T_2b3e3_level0_row5\" class=\"row_heading level0 row5\" >44.000000</th>\n",
       "      <td id=\"T_2b3e3_row5_col0\" class=\"data row5 col0\" >0.008772</td>\n",
       "    </tr>\n",
       "    <tr>\n",
       "      <th id=\"T_2b3e3_level0_row6\" class=\"row_heading level0 row6\" >47.000000</th>\n",
       "      <td id=\"T_2b3e3_row6_col0\" class=\"data row6 col0\" >0.017544</td>\n",
       "    </tr>\n",
       "    <tr>\n",
       "      <th id=\"T_2b3e3_level0_row7\" class=\"row_heading level0 row7\" >49.000000</th>\n",
       "      <td id=\"T_2b3e3_row7_col0\" class=\"data row7 col0\" >0.008772</td>\n",
       "    </tr>\n",
       "    <tr>\n",
       "      <th id=\"T_2b3e3_level0_row8\" class=\"row_heading level0 row8\" >50.000000</th>\n",
       "      <td id=\"T_2b3e3_row8_col0\" class=\"data row8 col0\" >0.017544</td>\n",
       "    </tr>\n",
       "    <tr>\n",
       "      <th id=\"T_2b3e3_level0_row9\" class=\"row_heading level0 row9\" >51.000000</th>\n",
       "      <td id=\"T_2b3e3_row9_col0\" class=\"data row9 col0\" >0.008772</td>\n",
       "    </tr>\n",
       "    <tr>\n",
       "      <th id=\"T_2b3e3_level0_row10\" class=\"row_heading level0 row10\" >53.000000</th>\n",
       "      <td id=\"T_2b3e3_row10_col0\" class=\"data row10 col0\" >0.017544</td>\n",
       "    </tr>\n",
       "    <tr>\n",
       "      <th id=\"T_2b3e3_level0_row11\" class=\"row_heading level0 row11\" >54.000000</th>\n",
       "      <td id=\"T_2b3e3_row11_col0\" class=\"data row11 col0\" >0.008772</td>\n",
       "    </tr>\n",
       "    <tr>\n",
       "      <th id=\"T_2b3e3_level0_row12\" class=\"row_heading level0 row12\" >55.000000</th>\n",
       "      <td id=\"T_2b3e3_row12_col0\" class=\"data row12 col0\" >0.017544</td>\n",
       "    </tr>\n",
       "    <tr>\n",
       "      <th id=\"T_2b3e3_level0_row13\" class=\"row_heading level0 row13\" >56.000000</th>\n",
       "      <td id=\"T_2b3e3_row13_col0\" class=\"data row13 col0\" >0.008772</td>\n",
       "    </tr>\n",
       "    <tr>\n",
       "      <th id=\"T_2b3e3_level0_row14\" class=\"row_heading level0 row14\" >57.000000</th>\n",
       "      <td id=\"T_2b3e3_row14_col0\" class=\"data row14 col0\" >0.008772</td>\n",
       "    </tr>\n",
       "    <tr>\n",
       "      <th id=\"T_2b3e3_level0_row15\" class=\"row_heading level0 row15\" >58.000000</th>\n",
       "      <td id=\"T_2b3e3_row15_col0\" class=\"data row15 col0\" >0.017544</td>\n",
       "    </tr>\n",
       "    <tr>\n",
       "      <th id=\"T_2b3e3_level0_row16\" class=\"row_heading level0 row16\" >59.000000</th>\n",
       "      <td id=\"T_2b3e3_row16_col0\" class=\"data row16 col0\" >0.026316</td>\n",
       "    </tr>\n",
       "    <tr>\n",
       "      <th id=\"T_2b3e3_level0_row17\" class=\"row_heading level0 row17\" >60.000000</th>\n",
       "      <td id=\"T_2b3e3_row17_col0\" class=\"data row17 col0\" >0.008772</td>\n",
       "    </tr>\n",
       "    <tr>\n",
       "      <th id=\"T_2b3e3_level0_row18\" class=\"row_heading level0 row18\" >61.000000</th>\n",
       "      <td id=\"T_2b3e3_row18_col0\" class=\"data row18 col0\" >0.008772</td>\n",
       "    </tr>\n",
       "    <tr>\n",
       "      <th id=\"T_2b3e3_level0_row19\" class=\"row_heading level0 row19\" >62.000000</th>\n",
       "      <td id=\"T_2b3e3_row19_col0\" class=\"data row19 col0\" >0.017544</td>\n",
       "    </tr>\n",
       "    <tr>\n",
       "      <th id=\"T_2b3e3_level0_row20\" class=\"row_heading level0 row20\" >64.000000</th>\n",
       "      <td id=\"T_2b3e3_row20_col0\" class=\"data row20 col0\" >0.008772</td>\n",
       "    </tr>\n",
       "    <tr>\n",
       "      <th id=\"T_2b3e3_level0_row21\" class=\"row_heading level0 row21\" >65.000000</th>\n",
       "      <td id=\"T_2b3e3_row21_col0\" class=\"data row21 col0\" >0.052632</td>\n",
       "    </tr>\n",
       "    <tr>\n",
       "      <th id=\"T_2b3e3_level0_row22\" class=\"row_heading level0 row22\" >66.000000</th>\n",
       "      <td id=\"T_2b3e3_row22_col0\" class=\"data row22 col0\" >0.035088</td>\n",
       "    </tr>\n",
       "    <tr>\n",
       "      <th id=\"T_2b3e3_level0_row23\" class=\"row_heading level0 row23\" >67.000000</th>\n",
       "      <td id=\"T_2b3e3_row23_col0\" class=\"data row23 col0\" >0.026316</td>\n",
       "    </tr>\n",
       "    <tr>\n",
       "      <th id=\"T_2b3e3_level0_row24\" class=\"row_heading level0 row24\" >68.000000</th>\n",
       "      <td id=\"T_2b3e3_row24_col0\" class=\"data row24 col0\" >0.017544</td>\n",
       "    </tr>\n",
       "    <tr>\n",
       "      <th id=\"T_2b3e3_level0_row25\" class=\"row_heading level0 row25\" >69.000000</th>\n",
       "      <td id=\"T_2b3e3_row25_col0\" class=\"data row25 col0\" >0.035088</td>\n",
       "    </tr>\n",
       "    <tr>\n",
       "      <th id=\"T_2b3e3_level0_row26\" class=\"row_heading level0 row26\" >70.000000</th>\n",
       "      <td id=\"T_2b3e3_row26_col0\" class=\"data row26 col0\" >0.017544</td>\n",
       "    </tr>\n",
       "    <tr>\n",
       "      <th id=\"T_2b3e3_level0_row27\" class=\"row_heading level0 row27\" >71.000000</th>\n",
       "      <td id=\"T_2b3e3_row27_col0\" class=\"data row27 col0\" >0.035088</td>\n",
       "    </tr>\n",
       "    <tr>\n",
       "      <th id=\"T_2b3e3_level0_row28\" class=\"row_heading level0 row28\" >72.000000</th>\n",
       "      <td id=\"T_2b3e3_row28_col0\" class=\"data row28 col0\" >0.026316</td>\n",
       "    </tr>\n",
       "    <tr>\n",
       "      <th id=\"T_2b3e3_level0_row29\" class=\"row_heading level0 row29\" >73.000000</th>\n",
       "      <td id=\"T_2b3e3_row29_col0\" class=\"data row29 col0\" >0.017544</td>\n",
       "    </tr>\n",
       "    <tr>\n",
       "      <th id=\"T_2b3e3_level0_row30\" class=\"row_heading level0 row30\" >74.000000</th>\n",
       "      <td id=\"T_2b3e3_row30_col0\" class=\"data row30 col0\" >0.035088</td>\n",
       "    </tr>\n",
       "    <tr>\n",
       "      <th id=\"T_2b3e3_level0_row31\" class=\"row_heading level0 row31\" >75.000000</th>\n",
       "      <td id=\"T_2b3e3_row31_col0\" class=\"data row31 col0\" >0.017544</td>\n",
       "    </tr>\n",
       "    <tr>\n",
       "      <th id=\"T_2b3e3_level0_row32\" class=\"row_heading level0 row32\" >76.000000</th>\n",
       "      <td id=\"T_2b3e3_row32_col0\" class=\"data row32 col0\" >0.026316</td>\n",
       "    </tr>\n",
       "    <tr>\n",
       "      <th id=\"T_2b3e3_level0_row33\" class=\"row_heading level0 row33\" >77.000000</th>\n",
       "      <td id=\"T_2b3e3_row33_col0\" class=\"data row33 col0\" >0.043860</td>\n",
       "    </tr>\n",
       "    <tr>\n",
       "      <th id=\"T_2b3e3_level0_row34\" class=\"row_heading level0 row34\" >78.000000</th>\n",
       "      <td id=\"T_2b3e3_row34_col0\" class=\"data row34 col0\" >0.026316</td>\n",
       "    </tr>\n",
       "    <tr>\n",
       "      <th id=\"T_2b3e3_level0_row35\" class=\"row_heading level0 row35\" >79.000000</th>\n",
       "      <td id=\"T_2b3e3_row35_col0\" class=\"data row35 col0\" >0.026316</td>\n",
       "    </tr>\n",
       "    <tr>\n",
       "      <th id=\"T_2b3e3_level0_row36\" class=\"row_heading level0 row36\" >80.000000</th>\n",
       "      <td id=\"T_2b3e3_row36_col0\" class=\"data row36 col0\" >0.061404</td>\n",
       "    </tr>\n",
       "    <tr>\n",
       "      <th id=\"T_2b3e3_level0_row37\" class=\"row_heading level0 row37\" >81.000000</th>\n",
       "      <td id=\"T_2b3e3_row37_col0\" class=\"data row37 col0\" >0.043860</td>\n",
       "    </tr>\n",
       "    <tr>\n",
       "      <th id=\"T_2b3e3_level0_row38\" class=\"row_heading level0 row38\" >82.000000</th>\n",
       "      <td id=\"T_2b3e3_row38_col0\" class=\"data row38 col0\" >0.008772</td>\n",
       "    </tr>\n",
       "    <tr>\n",
       "      <th id=\"T_2b3e3_level0_row39\" class=\"row_heading level0 row39\" >83.000000</th>\n",
       "      <td id=\"T_2b3e3_row39_col0\" class=\"data row39 col0\" >0.026316</td>\n",
       "    </tr>\n",
       "    <tr>\n",
       "      <th id=\"T_2b3e3_level0_row40\" class=\"row_heading level0 row40\" >84.000000</th>\n",
       "      <td id=\"T_2b3e3_row40_col0\" class=\"data row40 col0\" >0.026316</td>\n",
       "    </tr>\n",
       "    <tr>\n",
       "      <th id=\"T_2b3e3_level0_row41\" class=\"row_heading level0 row41\" >85.000000</th>\n",
       "      <td id=\"T_2b3e3_row41_col0\" class=\"data row41 col0\" >0.008772</td>\n",
       "    </tr>\n",
       "    <tr>\n",
       "      <th id=\"T_2b3e3_level0_row42\" class=\"row_heading level0 row42\" >86.000000</th>\n",
       "      <td id=\"T_2b3e3_row42_col0\" class=\"data row42 col0\" >0.026316</td>\n",
       "    </tr>\n",
       "    <tr>\n",
       "      <th id=\"T_2b3e3_level0_row43\" class=\"row_heading level0 row43\" >87.000000</th>\n",
       "      <td id=\"T_2b3e3_row43_col0\" class=\"data row43 col0\" >0.008772</td>\n",
       "    </tr>\n",
       "    <tr>\n",
       "      <th id=\"T_2b3e3_level0_row44\" class=\"row_heading level0 row44\" >88.000000</th>\n",
       "      <td id=\"T_2b3e3_row44_col0\" class=\"data row44 col0\" >0.017544</td>\n",
       "    </tr>\n",
       "    <tr>\n",
       "      <th id=\"T_2b3e3_level0_row45\" class=\"row_heading level0 row45\" >89.000000</th>\n",
       "      <td id=\"T_2b3e3_row45_col0\" class=\"data row45 col0\" >0.026316</td>\n",
       "    </tr>\n",
       "    <tr>\n",
       "      <th id=\"T_2b3e3_level0_row46\" class=\"row_heading level0 row46\" >91.000000</th>\n",
       "      <td id=\"T_2b3e3_row46_col0\" class=\"data row46 col0\" >0.017544</td>\n",
       "    </tr>\n",
       "    <tr>\n",
       "      <th id=\"T_2b3e3_level0_row47\" class=\"row_heading level0 row47\" >92.000000</th>\n",
       "      <td id=\"T_2b3e3_row47_col0\" class=\"data row47 col0\" >0.008772</td>\n",
       "    </tr>\n",
       "    <tr>\n",
       "      <th id=\"T_2b3e3_level0_row48\" class=\"row_heading level0 row48\" >94.000000</th>\n",
       "      <td id=\"T_2b3e3_row48_col0\" class=\"data row48 col0\" >0.008772</td>\n",
       "    </tr>\n",
       "    <tr>\n",
       "      <th id=\"T_2b3e3_level0_row49\" class=\"row_heading level0 row49\" >95.000000</th>\n",
       "      <td id=\"T_2b3e3_row49_col0\" class=\"data row49 col0\" >0.008772</td>\n",
       "    </tr>\n",
       "  </tbody>\n",
       "</table>\n"
      ],
      "text/plain": [
       "<pandas.io.formats.style.Styler at 0x7f7fd3efd190>"
      ]
     },
     "metadata": {},
     "output_type": "display_data"
    },
    {
     "data": {
      "text/html": [
       "<style type=\"text/css\">\n",
       "#T_b8501_row0_col0 {\n",
       "  background-color: #023858;\n",
       "  color: #f1f1f1;\n",
       "}\n",
       "#T_b8501_row1_col0 {\n",
       "  background-color: #046097;\n",
       "  color: #f1f1f1;\n",
       "}\n",
       "</style>\n",
       "<table id=\"T_b8501\">\n",
       "  <thead>\n",
       "    <tr>\n",
       "      <th class=\"blank level0\" >&nbsp;</th>\n",
       "      <th id=\"T_b8501_level0_col0\" class=\"col_heading level0 col0\" >pmf</th>\n",
       "    </tr>\n",
       "    <tr>\n",
       "      <th class=\"index_name level0\" >gender</th>\n",
       "      <th class=\"blank col0\" >&nbsp;</th>\n",
       "    </tr>\n",
       "  </thead>\n",
       "  <tbody>\n",
       "    <tr>\n",
       "      <th id=\"T_b8501_level0_row0\" class=\"row_heading level0 row0\" >1.000000</th>\n",
       "      <td id=\"T_b8501_row0_col0\" class=\"data row0 col0\" >0.543860</td>\n",
       "    </tr>\n",
       "    <tr>\n",
       "      <th id=\"T_b8501_level0_row1\" class=\"row_heading level0 row1\" >2.000000</th>\n",
       "      <td id=\"T_b8501_row1_col0\" class=\"data row1 col0\" >0.456140</td>\n",
       "    </tr>\n",
       "  </tbody>\n",
       "</table>\n"
      ],
      "text/plain": [
       "<pandas.io.formats.style.Styler at 0x7f7fd3d63e20>"
      ]
     },
     "metadata": {},
     "output_type": "display_data"
    },
    {
     "data": {
      "text/html": [
       "<style type=\"text/css\">\n",
       "#T_77a1d_row0_col0 {\n",
       "  background-color: #023858;\n",
       "  color: #f1f1f1;\n",
       "}\n",
       "#T_77a1d_row1_col0 {\n",
       "  background-color: #7eadd1;\n",
       "  color: #f1f1f1;\n",
       "}\n",
       "#T_77a1d_row2_col0, #T_77a1d_row3_col0 {\n",
       "  background-color: #afc1dd;\n",
       "  color: #000000;\n",
       "}\n",
       "#T_77a1d_row4_col0 {\n",
       "  background-color: #d6d6e9;\n",
       "  color: #000000;\n",
       "}\n",
       "#T_77a1d_row5_col0 {\n",
       "  background-color: #88b1d4;\n",
       "  color: #000000;\n",
       "}\n",
       "</style>\n",
       "<table id=\"T_77a1d\">\n",
       "  <thead>\n",
       "    <tr>\n",
       "      <th class=\"blank level0\" >&nbsp;</th>\n",
       "      <th id=\"T_77a1d_level0_col0\" class=\"col_heading level0 col0\" >pmf</th>\n",
       "    </tr>\n",
       "    <tr>\n",
       "      <th class=\"index_name level0\" >lams</th>\n",
       "      <th class=\"blank col0\" >&nbsp;</th>\n",
       "    </tr>\n",
       "  </thead>\n",
       "  <tbody>\n",
       "    <tr>\n",
       "      <th id=\"T_77a1d_level0_row0\" class=\"row_heading level0 row0\" >0.000000</th>\n",
       "      <td id=\"T_77a1d_row0_col0\" class=\"data row0 col0\" >0.350877</td>\n",
       "    </tr>\n",
       "    <tr>\n",
       "      <th id=\"T_77a1d_level0_row1\" class=\"row_heading level0 row1\" >1.000000</th>\n",
       "      <td id=\"T_77a1d_row1_col0\" class=\"data row1 col0\" >0.166667</td>\n",
       "    </tr>\n",
       "    <tr>\n",
       "      <th id=\"T_77a1d_level0_row2\" class=\"row_heading level0 row2\" >2.000000</th>\n",
       "      <td id=\"T_77a1d_row2_col0\" class=\"data row2 col0\" >0.122807</td>\n",
       "    </tr>\n",
       "    <tr>\n",
       "      <th id=\"T_77a1d_level0_row3\" class=\"row_heading level0 row3\" >3.000000</th>\n",
       "      <td id=\"T_77a1d_row3_col0\" class=\"data row3 col0\" >0.122807</td>\n",
       "    </tr>\n",
       "    <tr>\n",
       "      <th id=\"T_77a1d_level0_row4\" class=\"row_heading level0 row4\" >4.000000</th>\n",
       "      <td id=\"T_77a1d_row4_col0\" class=\"data row4 col0\" >0.078947</td>\n",
       "    </tr>\n",
       "    <tr>\n",
       "      <th id=\"T_77a1d_level0_row5\" class=\"row_heading level0 row5\" >5.000000</th>\n",
       "      <td id=\"T_77a1d_row5_col0\" class=\"data row5 col0\" >0.157895</td>\n",
       "    </tr>\n",
       "  </tbody>\n",
       "</table>\n"
      ],
      "text/plain": [
       "<pandas.io.formats.style.Styler at 0x7f7fd3efd040>"
      ]
     },
     "metadata": {},
     "output_type": "display_data"
    },
    {
     "data": {
      "text/html": [
       "<style type=\"text/css\">\n",
       "#T_94c7c_row0_col0 {\n",
       "  background-color: #63a2cb;\n",
       "  color: #f1f1f1;\n",
       "}\n",
       "#T_94c7c_row1_col0, #T_94c7c_row4_col0 {\n",
       "  background-color: #023858;\n",
       "  color: #f1f1f1;\n",
       "}\n",
       "#T_94c7c_row2_col0, #T_94c7c_row7_col0 {\n",
       "  background-color: #9cb9d9;\n",
       "  color: #000000;\n",
       "}\n",
       "#T_94c7c_row3_col0 {\n",
       "  background-color: #4295c3;\n",
       "  color: #f1f1f1;\n",
       "}\n",
       "#T_94c7c_row5_col0 {\n",
       "  background-color: #0c74b2;\n",
       "  color: #f1f1f1;\n",
       "}\n",
       "#T_94c7c_row6_col0, #T_94c7c_row9_col0, #T_94c7c_row10_col0, #T_94c7c_row12_col0, #T_94c7c_row15_col0, #T_94c7c_row17_col0, #T_94c7c_row18_col0, #T_94c7c_row22_col0, #T_94c7c_row23_col0 {\n",
       "  background-color: #eae6f1;\n",
       "  color: #000000;\n",
       "}\n",
       "#T_94c7c_row8_col0 {\n",
       "  background-color: #81aed2;\n",
       "  color: #f1f1f1;\n",
       "}\n",
       "#T_94c7c_row11_col0 {\n",
       "  background-color: #b4c4df;\n",
       "  color: #000000;\n",
       "}\n",
       "#T_94c7c_row13_col0, #T_94c7c_row16_col0 {\n",
       "  background-color: #cacee5;\n",
       "  color: #000000;\n",
       "}\n",
       "#T_94c7c_row14_col0, #T_94c7c_row19_col0, #T_94c7c_row21_col0 {\n",
       "  background-color: #f5eef6;\n",
       "  color: #000000;\n",
       "}\n",
       "#T_94c7c_row20_col0 {\n",
       "  background-color: #dbdaeb;\n",
       "  color: #000000;\n",
       "}\n",
       "</style>\n",
       "<table id=\"T_94c7c\">\n",
       "  <thead>\n",
       "    <tr>\n",
       "      <th class=\"blank level0\" >&nbsp;</th>\n",
       "      <th id=\"T_94c7c_level0_col0\" class=\"col_heading level0 col0\" >pmf</th>\n",
       "    </tr>\n",
       "    <tr>\n",
       "      <th class=\"index_name level0\" >nihss</th>\n",
       "      <th class=\"blank col0\" >&nbsp;</th>\n",
       "    </tr>\n",
       "  </thead>\n",
       "  <tbody>\n",
       "    <tr>\n",
       "      <th id=\"T_94c7c_level0_row0\" class=\"row_heading level0 row0\" >0.000000</th>\n",
       "      <td id=\"T_94c7c_row0_col0\" class=\"data row0 col0\" >0.070175</td>\n",
       "    </tr>\n",
       "    <tr>\n",
       "      <th id=\"T_94c7c_level0_row1\" class=\"row_heading level0 row1\" >1.000000</th>\n",
       "      <td id=\"T_94c7c_row1_col0\" class=\"data row1 col0\" >0.131579</td>\n",
       "    </tr>\n",
       "    <tr>\n",
       "      <th id=\"T_94c7c_level0_row2\" class=\"row_heading level0 row2\" >2.000000</th>\n",
       "      <td id=\"T_94c7c_row2_col0\" class=\"data row2 col0\" >0.052632</td>\n",
       "    </tr>\n",
       "    <tr>\n",
       "      <th id=\"T_94c7c_level0_row3\" class=\"row_heading level0 row3\" >3.000000</th>\n",
       "      <td id=\"T_94c7c_row3_col0\" class=\"data row3 col0\" >0.078947</td>\n",
       "    </tr>\n",
       "    <tr>\n",
       "      <th id=\"T_94c7c_level0_row4\" class=\"row_heading level0 row4\" >4.000000</th>\n",
       "      <td id=\"T_94c7c_row4_col0\" class=\"data row4 col0\" >0.131579</td>\n",
       "    </tr>\n",
       "    <tr>\n",
       "      <th id=\"T_94c7c_level0_row5\" class=\"row_heading level0 row5\" >5.000000</th>\n",
       "      <td id=\"T_94c7c_row5_col0\" class=\"data row5 col0\" >0.096491</td>\n",
       "    </tr>\n",
       "    <tr>\n",
       "      <th id=\"T_94c7c_level0_row6\" class=\"row_heading level0 row6\" >6.000000</th>\n",
       "      <td id=\"T_94c7c_row6_col0\" class=\"data row6 col0\" >0.017544</td>\n",
       "    </tr>\n",
       "    <tr>\n",
       "      <th id=\"T_94c7c_level0_row7\" class=\"row_heading level0 row7\" >7.000000</th>\n",
       "      <td id=\"T_94c7c_row7_col0\" class=\"data row7 col0\" >0.052632</td>\n",
       "    </tr>\n",
       "    <tr>\n",
       "      <th id=\"T_94c7c_level0_row8\" class=\"row_heading level0 row8\" >8.000000</th>\n",
       "      <td id=\"T_94c7c_row8_col0\" class=\"data row8 col0\" >0.061404</td>\n",
       "    </tr>\n",
       "    <tr>\n",
       "      <th id=\"T_94c7c_level0_row9\" class=\"row_heading level0 row9\" >9.000000</th>\n",
       "      <td id=\"T_94c7c_row9_col0\" class=\"data row9 col0\" >0.017544</td>\n",
       "    </tr>\n",
       "    <tr>\n",
       "      <th id=\"T_94c7c_level0_row10\" class=\"row_heading level0 row10\" >10.000000</th>\n",
       "      <td id=\"T_94c7c_row10_col0\" class=\"data row10 col0\" >0.017544</td>\n",
       "    </tr>\n",
       "    <tr>\n",
       "      <th id=\"T_94c7c_level0_row11\" class=\"row_heading level0 row11\" >11.000000</th>\n",
       "      <td id=\"T_94c7c_row11_col0\" class=\"data row11 col0\" >0.043860</td>\n",
       "    </tr>\n",
       "    <tr>\n",
       "      <th id=\"T_94c7c_level0_row12\" class=\"row_heading level0 row12\" >12.000000</th>\n",
       "      <td id=\"T_94c7c_row12_col0\" class=\"data row12 col0\" >0.017544</td>\n",
       "    </tr>\n",
       "    <tr>\n",
       "      <th id=\"T_94c7c_level0_row13\" class=\"row_heading level0 row13\" >13.000000</th>\n",
       "      <td id=\"T_94c7c_row13_col0\" class=\"data row13 col0\" >0.035088</td>\n",
       "    </tr>\n",
       "    <tr>\n",
       "      <th id=\"T_94c7c_level0_row14\" class=\"row_heading level0 row14\" >14.000000</th>\n",
       "      <td id=\"T_94c7c_row14_col0\" class=\"data row14 col0\" >0.008772</td>\n",
       "    </tr>\n",
       "    <tr>\n",
       "      <th id=\"T_94c7c_level0_row15\" class=\"row_heading level0 row15\" >15.000000</th>\n",
       "      <td id=\"T_94c7c_row15_col0\" class=\"data row15 col0\" >0.017544</td>\n",
       "    </tr>\n",
       "    <tr>\n",
       "      <th id=\"T_94c7c_level0_row16\" class=\"row_heading level0 row16\" >16.000000</th>\n",
       "      <td id=\"T_94c7c_row16_col0\" class=\"data row16 col0\" >0.035088</td>\n",
       "    </tr>\n",
       "    <tr>\n",
       "      <th id=\"T_94c7c_level0_row17\" class=\"row_heading level0 row17\" >18.000000</th>\n",
       "      <td id=\"T_94c7c_row17_col0\" class=\"data row17 col0\" >0.017544</td>\n",
       "    </tr>\n",
       "    <tr>\n",
       "      <th id=\"T_94c7c_level0_row18\" class=\"row_heading level0 row18\" >19.000000</th>\n",
       "      <td id=\"T_94c7c_row18_col0\" class=\"data row18 col0\" >0.017544</td>\n",
       "    </tr>\n",
       "    <tr>\n",
       "      <th id=\"T_94c7c_level0_row19\" class=\"row_heading level0 row19\" >20.000000</th>\n",
       "      <td id=\"T_94c7c_row19_col0\" class=\"data row19 col0\" >0.008772</td>\n",
       "    </tr>\n",
       "    <tr>\n",
       "      <th id=\"T_94c7c_level0_row20\" class=\"row_heading level0 row20\" >21.000000</th>\n",
       "      <td id=\"T_94c7c_row20_col0\" class=\"data row20 col0\" >0.026316</td>\n",
       "    </tr>\n",
       "    <tr>\n",
       "      <th id=\"T_94c7c_level0_row21\" class=\"row_heading level0 row21\" >22.000000</th>\n",
       "      <td id=\"T_94c7c_row21_col0\" class=\"data row21 col0\" >0.008772</td>\n",
       "    </tr>\n",
       "    <tr>\n",
       "      <th id=\"T_94c7c_level0_row22\" class=\"row_heading level0 row22\" >24.000000</th>\n",
       "      <td id=\"T_94c7c_row22_col0\" class=\"data row22 col0\" >0.017544</td>\n",
       "    </tr>\n",
       "    <tr>\n",
       "      <th id=\"T_94c7c_level0_row23\" class=\"row_heading level0 row23\" >27.000000</th>\n",
       "      <td id=\"T_94c7c_row23_col0\" class=\"data row23 col0\" >0.017544</td>\n",
       "    </tr>\n",
       "  </tbody>\n",
       "</table>\n"
      ],
      "text/plain": [
       "<pandas.io.formats.style.Styler at 0x7f7fd3d63490>"
      ]
     },
     "metadata": {},
     "output_type": "display_data"
    },
    {
     "data": {
      "text/html": [
       "<style type=\"text/css\">\n",
       "#T_f60cb_row0_col0 {\n",
       "  background-color: #023858;\n",
       "  color: #f1f1f1;\n",
       "}\n",
       "#T_f60cb_row1_col0 {\n",
       "  background-color: #569dc8;\n",
       "  color: #f1f1f1;\n",
       "}\n",
       "</style>\n",
       "<table id=\"T_f60cb\">\n",
       "  <thead>\n",
       "    <tr>\n",
       "      <th class=\"blank level0\" >&nbsp;</th>\n",
       "      <th id=\"T_f60cb_level0_col0\" class=\"col_heading level0 col0\" >pmf</th>\n",
       "    </tr>\n",
       "    <tr>\n",
       "      <th class=\"index_name level0\" >lvo</th>\n",
       "      <th class=\"blank col0\" >&nbsp;</th>\n",
       "    </tr>\n",
       "  </thead>\n",
       "  <tbody>\n",
       "    <tr>\n",
       "      <th id=\"T_f60cb_level0_row0\" class=\"row_heading level0 row0\" >0</th>\n",
       "      <td id=\"T_f60cb_row0_col0\" class=\"data row0 col0\" >0.640351</td>\n",
       "    </tr>\n",
       "    <tr>\n",
       "      <th id=\"T_f60cb_level0_row1\" class=\"row_heading level0 row1\" >1</th>\n",
       "      <td id=\"T_f60cb_row1_col0\" class=\"data row1 col0\" >0.359649</td>\n",
       "    </tr>\n",
       "  </tbody>\n",
       "</table>\n"
      ],
      "text/plain": [
       "<pandas.io.formats.style.Styler at 0x7f7fd708deb0>"
      ]
     },
     "metadata": {},
     "output_type": "display_data"
    },
    {
     "data": {
      "text/html": [
       "<style type=\"text/css\">\n",
       "#T_10bce_row0_col0, #T_10bce_row5_col0, #T_10bce_row14_col0, #T_10bce_row15_col0, #T_10bce_row17_col0, #T_10bce_row20_col0, #T_10bce_row21_col0, #T_10bce_row23_col0, #T_10bce_row29_col0, #T_10bce_row38_col0, #T_10bce_row42_col0, #T_10bce_row58_col0, #T_10bce_row62_col0, #T_10bce_row65_col0, #T_10bce_row69_col0, #T_10bce_row73_col0 {\n",
       "  background-color: #2685bb;\n",
       "  color: #f1f1f1;\n",
       "}\n",
       "#T_10bce_row1_col0, #T_10bce_row2_col0, #T_10bce_row3_col0, #T_10bce_row4_col0, #T_10bce_row6_col0, #T_10bce_row7_col0, #T_10bce_row8_col0, #T_10bce_row9_col0, #T_10bce_row10_col0, #T_10bce_row11_col0, #T_10bce_row12_col0, #T_10bce_row13_col0, #T_10bce_row16_col0, #T_10bce_row18_col0, #T_10bce_row24_col0, #T_10bce_row25_col0, #T_10bce_row26_col0, #T_10bce_row27_col0, #T_10bce_row28_col0, #T_10bce_row30_col0, #T_10bce_row31_col0, #T_10bce_row32_col0, #T_10bce_row33_col0, #T_10bce_row34_col0, #T_10bce_row35_col0, #T_10bce_row36_col0, #T_10bce_row37_col0, #T_10bce_row39_col0, #T_10bce_row40_col0, #T_10bce_row41_col0, #T_10bce_row43_col0, #T_10bce_row44_col0, #T_10bce_row45_col0, #T_10bce_row46_col0, #T_10bce_row47_col0, #T_10bce_row48_col0, #T_10bce_row49_col0, #T_10bce_row50_col0, #T_10bce_row51_col0, #T_10bce_row52_col0, #T_10bce_row53_col0, #T_10bce_row54_col0, #T_10bce_row55_col0, #T_10bce_row56_col0, #T_10bce_row57_col0, #T_10bce_row59_col0, #T_10bce_row60_col0, #T_10bce_row61_col0, #T_10bce_row63_col0, #T_10bce_row64_col0, #T_10bce_row66_col0, #T_10bce_row68_col0, #T_10bce_row70_col0, #T_10bce_row71_col0, #T_10bce_row72_col0, #T_10bce_row74_col0, #T_10bce_row75_col0, #T_10bce_row76_col0, #T_10bce_row77_col0, #T_10bce_row78_col0, #T_10bce_row79_col0, #T_10bce_row80_col0, #T_10bce_row81_col0, #T_10bce_row82_col0, #T_10bce_row83_col0, #T_10bce_row84_col0, #T_10bce_row85_col0, #T_10bce_row86_col0, #T_10bce_row87_col0, #T_10bce_row88_col0, #T_10bce_row89_col0, #T_10bce_row90_col0, #T_10bce_row91_col0 {\n",
       "  background-color: #b4c4df;\n",
       "  color: #000000;\n",
       "}\n",
       "#T_10bce_row19_col0, #T_10bce_row22_col0, #T_10bce_row67_col0 {\n",
       "  background-color: #023858;\n",
       "  color: #f1f1f1;\n",
       "}\n",
       "</style>\n",
       "<table id=\"T_10bce\">\n",
       "  <thead>\n",
       "    <tr>\n",
       "      <th class=\"blank level0\" >&nbsp;</th>\n",
       "      <th id=\"T_10bce_level0_col0\" class=\"col_heading level0 col0\" >pmf</th>\n",
       "    </tr>\n",
       "    <tr>\n",
       "      <th class=\"index_name level0\" >time_elapsed</th>\n",
       "      <th class=\"blank col0\" >&nbsp;</th>\n",
       "    </tr>\n",
       "  </thead>\n",
       "  <tbody>\n",
       "    <tr>\n",
       "      <th id=\"T_10bce_level0_row0\" class=\"row_heading level0 row0\" >5</th>\n",
       "      <td id=\"T_10bce_row0_col0\" class=\"data row0 col0\" >0.017544</td>\n",
       "    </tr>\n",
       "    <tr>\n",
       "      <th id=\"T_10bce_level0_row1\" class=\"row_heading level0 row1\" >29</th>\n",
       "      <td id=\"T_10bce_row1_col0\" class=\"data row1 col0\" >0.008772</td>\n",
       "    </tr>\n",
       "    <tr>\n",
       "      <th id=\"T_10bce_level0_row2\" class=\"row_heading level0 row2\" >30</th>\n",
       "      <td id=\"T_10bce_row2_col0\" class=\"data row2 col0\" >0.008772</td>\n",
       "    </tr>\n",
       "    <tr>\n",
       "      <th id=\"T_10bce_level0_row3\" class=\"row_heading level0 row3\" >31</th>\n",
       "      <td id=\"T_10bce_row3_col0\" class=\"data row3 col0\" >0.008772</td>\n",
       "    </tr>\n",
       "    <tr>\n",
       "      <th id=\"T_10bce_level0_row4\" class=\"row_heading level0 row4\" >32</th>\n",
       "      <td id=\"T_10bce_row4_col0\" class=\"data row4 col0\" >0.008772</td>\n",
       "    </tr>\n",
       "    <tr>\n",
       "      <th id=\"T_10bce_level0_row5\" class=\"row_heading level0 row5\" >34</th>\n",
       "      <td id=\"T_10bce_row5_col0\" class=\"data row5 col0\" >0.017544</td>\n",
       "    </tr>\n",
       "    <tr>\n",
       "      <th id=\"T_10bce_level0_row6\" class=\"row_heading level0 row6\" >38</th>\n",
       "      <td id=\"T_10bce_row6_col0\" class=\"data row6 col0\" >0.008772</td>\n",
       "    </tr>\n",
       "    <tr>\n",
       "      <th id=\"T_10bce_level0_row7\" class=\"row_heading level0 row7\" >39</th>\n",
       "      <td id=\"T_10bce_row7_col0\" class=\"data row7 col0\" >0.008772</td>\n",
       "    </tr>\n",
       "    <tr>\n",
       "      <th id=\"T_10bce_level0_row8\" class=\"row_heading level0 row8\" >40</th>\n",
       "      <td id=\"T_10bce_row8_col0\" class=\"data row8 col0\" >0.008772</td>\n",
       "    </tr>\n",
       "    <tr>\n",
       "      <th id=\"T_10bce_level0_row9\" class=\"row_heading level0 row9\" >41</th>\n",
       "      <td id=\"T_10bce_row9_col0\" class=\"data row9 col0\" >0.008772</td>\n",
       "    </tr>\n",
       "    <tr>\n",
       "      <th id=\"T_10bce_level0_row10\" class=\"row_heading level0 row10\" >44</th>\n",
       "      <td id=\"T_10bce_row10_col0\" class=\"data row10 col0\" >0.008772</td>\n",
       "    </tr>\n",
       "    <tr>\n",
       "      <th id=\"T_10bce_level0_row11\" class=\"row_heading level0 row11\" >45</th>\n",
       "      <td id=\"T_10bce_row11_col0\" class=\"data row11 col0\" >0.008772</td>\n",
       "    </tr>\n",
       "    <tr>\n",
       "      <th id=\"T_10bce_level0_row12\" class=\"row_heading level0 row12\" >46</th>\n",
       "      <td id=\"T_10bce_row12_col0\" class=\"data row12 col0\" >0.008772</td>\n",
       "    </tr>\n",
       "    <tr>\n",
       "      <th id=\"T_10bce_level0_row13\" class=\"row_heading level0 row13\" >48</th>\n",
       "      <td id=\"T_10bce_row13_col0\" class=\"data row13 col0\" >0.008772</td>\n",
       "    </tr>\n",
       "    <tr>\n",
       "      <th id=\"T_10bce_level0_row14\" class=\"row_heading level0 row14\" >54</th>\n",
       "      <td id=\"T_10bce_row14_col0\" class=\"data row14 col0\" >0.017544</td>\n",
       "    </tr>\n",
       "    <tr>\n",
       "      <th id=\"T_10bce_level0_row15\" class=\"row_heading level0 row15\" >55</th>\n",
       "      <td id=\"T_10bce_row15_col0\" class=\"data row15 col0\" >0.017544</td>\n",
       "    </tr>\n",
       "    <tr>\n",
       "      <th id=\"T_10bce_level0_row16\" class=\"row_heading level0 row16\" >56</th>\n",
       "      <td id=\"T_10bce_row16_col0\" class=\"data row16 col0\" >0.008772</td>\n",
       "    </tr>\n",
       "    <tr>\n",
       "      <th id=\"T_10bce_level0_row17\" class=\"row_heading level0 row17\" >57</th>\n",
       "      <td id=\"T_10bce_row17_col0\" class=\"data row17 col0\" >0.017544</td>\n",
       "    </tr>\n",
       "    <tr>\n",
       "      <th id=\"T_10bce_level0_row18\" class=\"row_heading level0 row18\" >58</th>\n",
       "      <td id=\"T_10bce_row18_col0\" class=\"data row18 col0\" >0.008772</td>\n",
       "    </tr>\n",
       "    <tr>\n",
       "      <th id=\"T_10bce_level0_row19\" class=\"row_heading level0 row19\" >60</th>\n",
       "      <td id=\"T_10bce_row19_col0\" class=\"data row19 col0\" >0.026316</td>\n",
       "    </tr>\n",
       "    <tr>\n",
       "      <th id=\"T_10bce_level0_row20\" class=\"row_heading level0 row20\" >61</th>\n",
       "      <td id=\"T_10bce_row20_col0\" class=\"data row20 col0\" >0.017544</td>\n",
       "    </tr>\n",
       "    <tr>\n",
       "      <th id=\"T_10bce_level0_row21\" class=\"row_heading level0 row21\" >64</th>\n",
       "      <td id=\"T_10bce_row21_col0\" class=\"data row21 col0\" >0.017544</td>\n",
       "    </tr>\n",
       "    <tr>\n",
       "      <th id=\"T_10bce_level0_row22\" class=\"row_heading level0 row22\" >68</th>\n",
       "      <td id=\"T_10bce_row22_col0\" class=\"data row22 col0\" >0.026316</td>\n",
       "    </tr>\n",
       "    <tr>\n",
       "      <th id=\"T_10bce_level0_row23\" class=\"row_heading level0 row23\" >70</th>\n",
       "      <td id=\"T_10bce_row23_col0\" class=\"data row23 col0\" >0.017544</td>\n",
       "    </tr>\n",
       "    <tr>\n",
       "      <th id=\"T_10bce_level0_row24\" class=\"row_heading level0 row24\" >71</th>\n",
       "      <td id=\"T_10bce_row24_col0\" class=\"data row24 col0\" >0.008772</td>\n",
       "    </tr>\n",
       "    <tr>\n",
       "      <th id=\"T_10bce_level0_row25\" class=\"row_heading level0 row25\" >72</th>\n",
       "      <td id=\"T_10bce_row25_col0\" class=\"data row25 col0\" >0.008772</td>\n",
       "    </tr>\n",
       "    <tr>\n",
       "      <th id=\"T_10bce_level0_row26\" class=\"row_heading level0 row26\" >73</th>\n",
       "      <td id=\"T_10bce_row26_col0\" class=\"data row26 col0\" >0.008772</td>\n",
       "    </tr>\n",
       "    <tr>\n",
       "      <th id=\"T_10bce_level0_row27\" class=\"row_heading level0 row27\" >75</th>\n",
       "      <td id=\"T_10bce_row27_col0\" class=\"data row27 col0\" >0.008772</td>\n",
       "    </tr>\n",
       "    <tr>\n",
       "      <th id=\"T_10bce_level0_row28\" class=\"row_heading level0 row28\" >76</th>\n",
       "      <td id=\"T_10bce_row28_col0\" class=\"data row28 col0\" >0.008772</td>\n",
       "    </tr>\n",
       "    <tr>\n",
       "      <th id=\"T_10bce_level0_row29\" class=\"row_heading level0 row29\" >77</th>\n",
       "      <td id=\"T_10bce_row29_col0\" class=\"data row29 col0\" >0.017544</td>\n",
       "    </tr>\n",
       "    <tr>\n",
       "      <th id=\"T_10bce_level0_row30\" class=\"row_heading level0 row30\" >78</th>\n",
       "      <td id=\"T_10bce_row30_col0\" class=\"data row30 col0\" >0.008772</td>\n",
       "    </tr>\n",
       "    <tr>\n",
       "      <th id=\"T_10bce_level0_row31\" class=\"row_heading level0 row31\" >79</th>\n",
       "      <td id=\"T_10bce_row31_col0\" class=\"data row31 col0\" >0.008772</td>\n",
       "    </tr>\n",
       "    <tr>\n",
       "      <th id=\"T_10bce_level0_row32\" class=\"row_heading level0 row32\" >80</th>\n",
       "      <td id=\"T_10bce_row32_col0\" class=\"data row32 col0\" >0.008772</td>\n",
       "    </tr>\n",
       "    <tr>\n",
       "      <th id=\"T_10bce_level0_row33\" class=\"row_heading level0 row33\" >84</th>\n",
       "      <td id=\"T_10bce_row33_col0\" class=\"data row33 col0\" >0.008772</td>\n",
       "    </tr>\n",
       "    <tr>\n",
       "      <th id=\"T_10bce_level0_row34\" class=\"row_heading level0 row34\" >85</th>\n",
       "      <td id=\"T_10bce_row34_col0\" class=\"data row34 col0\" >0.008772</td>\n",
       "    </tr>\n",
       "    <tr>\n",
       "      <th id=\"T_10bce_level0_row35\" class=\"row_heading level0 row35\" >87</th>\n",
       "      <td id=\"T_10bce_row35_col0\" class=\"data row35 col0\" >0.008772</td>\n",
       "    </tr>\n",
       "    <tr>\n",
       "      <th id=\"T_10bce_level0_row36\" class=\"row_heading level0 row36\" >90</th>\n",
       "      <td id=\"T_10bce_row36_col0\" class=\"data row36 col0\" >0.008772</td>\n",
       "    </tr>\n",
       "    <tr>\n",
       "      <th id=\"T_10bce_level0_row37\" class=\"row_heading level0 row37\" >92</th>\n",
       "      <td id=\"T_10bce_row37_col0\" class=\"data row37 col0\" >0.008772</td>\n",
       "    </tr>\n",
       "    <tr>\n",
       "      <th id=\"T_10bce_level0_row38\" class=\"row_heading level0 row38\" >95</th>\n",
       "      <td id=\"T_10bce_row38_col0\" class=\"data row38 col0\" >0.017544</td>\n",
       "    </tr>\n",
       "    <tr>\n",
       "      <th id=\"T_10bce_level0_row39\" class=\"row_heading level0 row39\" >96</th>\n",
       "      <td id=\"T_10bce_row39_col0\" class=\"data row39 col0\" >0.008772</td>\n",
       "    </tr>\n",
       "    <tr>\n",
       "      <th id=\"T_10bce_level0_row40\" class=\"row_heading level0 row40\" >97</th>\n",
       "      <td id=\"T_10bce_row40_col0\" class=\"data row40 col0\" >0.008772</td>\n",
       "    </tr>\n",
       "    <tr>\n",
       "      <th id=\"T_10bce_level0_row41\" class=\"row_heading level0 row41\" >100</th>\n",
       "      <td id=\"T_10bce_row41_col0\" class=\"data row41 col0\" >0.008772</td>\n",
       "    </tr>\n",
       "    <tr>\n",
       "      <th id=\"T_10bce_level0_row42\" class=\"row_heading level0 row42\" >102</th>\n",
       "      <td id=\"T_10bce_row42_col0\" class=\"data row42 col0\" >0.017544</td>\n",
       "    </tr>\n",
       "    <tr>\n",
       "      <th id=\"T_10bce_level0_row43\" class=\"row_heading level0 row43\" >104</th>\n",
       "      <td id=\"T_10bce_row43_col0\" class=\"data row43 col0\" >0.008772</td>\n",
       "    </tr>\n",
       "    <tr>\n",
       "      <th id=\"T_10bce_level0_row44\" class=\"row_heading level0 row44\" >106</th>\n",
       "      <td id=\"T_10bce_row44_col0\" class=\"data row44 col0\" >0.008772</td>\n",
       "    </tr>\n",
       "    <tr>\n",
       "      <th id=\"T_10bce_level0_row45\" class=\"row_heading level0 row45\" >110</th>\n",
       "      <td id=\"T_10bce_row45_col0\" class=\"data row45 col0\" >0.008772</td>\n",
       "    </tr>\n",
       "    <tr>\n",
       "      <th id=\"T_10bce_level0_row46\" class=\"row_heading level0 row46\" >111</th>\n",
       "      <td id=\"T_10bce_row46_col0\" class=\"data row46 col0\" >0.008772</td>\n",
       "    </tr>\n",
       "    <tr>\n",
       "      <th id=\"T_10bce_level0_row47\" class=\"row_heading level0 row47\" >118</th>\n",
       "      <td id=\"T_10bce_row47_col0\" class=\"data row47 col0\" >0.008772</td>\n",
       "    </tr>\n",
       "    <tr>\n",
       "      <th id=\"T_10bce_level0_row48\" class=\"row_heading level0 row48\" >124</th>\n",
       "      <td id=\"T_10bce_row48_col0\" class=\"data row48 col0\" >0.008772</td>\n",
       "    </tr>\n",
       "    <tr>\n",
       "      <th id=\"T_10bce_level0_row49\" class=\"row_heading level0 row49\" >132</th>\n",
       "      <td id=\"T_10bce_row49_col0\" class=\"data row49 col0\" >0.008772</td>\n",
       "    </tr>\n",
       "    <tr>\n",
       "      <th id=\"T_10bce_level0_row50\" class=\"row_heading level0 row50\" >135</th>\n",
       "      <td id=\"T_10bce_row50_col0\" class=\"data row50 col0\" >0.008772</td>\n",
       "    </tr>\n",
       "    <tr>\n",
       "      <th id=\"T_10bce_level0_row51\" class=\"row_heading level0 row51\" >136</th>\n",
       "      <td id=\"T_10bce_row51_col0\" class=\"data row51 col0\" >0.008772</td>\n",
       "    </tr>\n",
       "    <tr>\n",
       "      <th id=\"T_10bce_level0_row52\" class=\"row_heading level0 row52\" >140</th>\n",
       "      <td id=\"T_10bce_row52_col0\" class=\"data row52 col0\" >0.008772</td>\n",
       "    </tr>\n",
       "    <tr>\n",
       "      <th id=\"T_10bce_level0_row53\" class=\"row_heading level0 row53\" >144</th>\n",
       "      <td id=\"T_10bce_row53_col0\" class=\"data row53 col0\" >0.008772</td>\n",
       "    </tr>\n",
       "    <tr>\n",
       "      <th id=\"T_10bce_level0_row54\" class=\"row_heading level0 row54\" >147</th>\n",
       "      <td id=\"T_10bce_row54_col0\" class=\"data row54 col0\" >0.008772</td>\n",
       "    </tr>\n",
       "    <tr>\n",
       "      <th id=\"T_10bce_level0_row55\" class=\"row_heading level0 row55\" >150</th>\n",
       "      <td id=\"T_10bce_row55_col0\" class=\"data row55 col0\" >0.008772</td>\n",
       "    </tr>\n",
       "    <tr>\n",
       "      <th id=\"T_10bce_level0_row56\" class=\"row_heading level0 row56\" >151</th>\n",
       "      <td id=\"T_10bce_row56_col0\" class=\"data row56 col0\" >0.008772</td>\n",
       "    </tr>\n",
       "    <tr>\n",
       "      <th id=\"T_10bce_level0_row57\" class=\"row_heading level0 row57\" >153</th>\n",
       "      <td id=\"T_10bce_row57_col0\" class=\"data row57 col0\" >0.008772</td>\n",
       "    </tr>\n",
       "    <tr>\n",
       "      <th id=\"T_10bce_level0_row58\" class=\"row_heading level0 row58\" >155</th>\n",
       "      <td id=\"T_10bce_row58_col0\" class=\"data row58 col0\" >0.017544</td>\n",
       "    </tr>\n",
       "    <tr>\n",
       "      <th id=\"T_10bce_level0_row59\" class=\"row_heading level0 row59\" >166</th>\n",
       "      <td id=\"T_10bce_row59_col0\" class=\"data row59 col0\" >0.008772</td>\n",
       "    </tr>\n",
       "    <tr>\n",
       "      <th id=\"T_10bce_level0_row60\" class=\"row_heading level0 row60\" >185</th>\n",
       "      <td id=\"T_10bce_row60_col0\" class=\"data row60 col0\" >0.008772</td>\n",
       "    </tr>\n",
       "    <tr>\n",
       "      <th id=\"T_10bce_level0_row61\" class=\"row_heading level0 row61\" >187</th>\n",
       "      <td id=\"T_10bce_row61_col0\" class=\"data row61 col0\" >0.008772</td>\n",
       "    </tr>\n",
       "    <tr>\n",
       "      <th id=\"T_10bce_level0_row62\" class=\"row_heading level0 row62\" >195</th>\n",
       "      <td id=\"T_10bce_row62_col0\" class=\"data row62 col0\" >0.017544</td>\n",
       "    </tr>\n",
       "    <tr>\n",
       "      <th id=\"T_10bce_level0_row63\" class=\"row_heading level0 row63\" >203</th>\n",
       "      <td id=\"T_10bce_row63_col0\" class=\"data row63 col0\" >0.008772</td>\n",
       "    </tr>\n",
       "    <tr>\n",
       "      <th id=\"T_10bce_level0_row64\" class=\"row_heading level0 row64\" >209</th>\n",
       "      <td id=\"T_10bce_row64_col0\" class=\"data row64 col0\" >0.008772</td>\n",
       "    </tr>\n",
       "    <tr>\n",
       "      <th id=\"T_10bce_level0_row65\" class=\"row_heading level0 row65\" >213</th>\n",
       "      <td id=\"T_10bce_row65_col0\" class=\"data row65 col0\" >0.017544</td>\n",
       "    </tr>\n",
       "    <tr>\n",
       "      <th id=\"T_10bce_level0_row66\" class=\"row_heading level0 row66\" >223</th>\n",
       "      <td id=\"T_10bce_row66_col0\" class=\"data row66 col0\" >0.008772</td>\n",
       "    </tr>\n",
       "    <tr>\n",
       "      <th id=\"T_10bce_level0_row67\" class=\"row_heading level0 row67\" >228</th>\n",
       "      <td id=\"T_10bce_row67_col0\" class=\"data row67 col0\" >0.026316</td>\n",
       "    </tr>\n",
       "    <tr>\n",
       "      <th id=\"T_10bce_level0_row68\" class=\"row_heading level0 row68\" >234</th>\n",
       "      <td id=\"T_10bce_row68_col0\" class=\"data row68 col0\" >0.008772</td>\n",
       "    </tr>\n",
       "    <tr>\n",
       "      <th id=\"T_10bce_level0_row69\" class=\"row_heading level0 row69\" >235</th>\n",
       "      <td id=\"T_10bce_row69_col0\" class=\"data row69 col0\" >0.017544</td>\n",
       "    </tr>\n",
       "    <tr>\n",
       "      <th id=\"T_10bce_level0_row70\" class=\"row_heading level0 row70\" >236</th>\n",
       "      <td id=\"T_10bce_row70_col0\" class=\"data row70 col0\" >0.008772</td>\n",
       "    </tr>\n",
       "    <tr>\n",
       "      <th id=\"T_10bce_level0_row71\" class=\"row_heading level0 row71\" >237</th>\n",
       "      <td id=\"T_10bce_row71_col0\" class=\"data row71 col0\" >0.008772</td>\n",
       "    </tr>\n",
       "    <tr>\n",
       "      <th id=\"T_10bce_level0_row72\" class=\"row_heading level0 row72\" >238</th>\n",
       "      <td id=\"T_10bce_row72_col0\" class=\"data row72 col0\" >0.008772</td>\n",
       "    </tr>\n",
       "    <tr>\n",
       "      <th id=\"T_10bce_level0_row73\" class=\"row_heading level0 row73\" >239</th>\n",
       "      <td id=\"T_10bce_row73_col0\" class=\"data row73 col0\" >0.017544</td>\n",
       "    </tr>\n",
       "    <tr>\n",
       "      <th id=\"T_10bce_level0_row74\" class=\"row_heading level0 row74\" >248</th>\n",
       "      <td id=\"T_10bce_row74_col0\" class=\"data row74 col0\" >0.008772</td>\n",
       "    </tr>\n",
       "    <tr>\n",
       "      <th id=\"T_10bce_level0_row75\" class=\"row_heading level0 row75\" >259</th>\n",
       "      <td id=\"T_10bce_row75_col0\" class=\"data row75 col0\" >0.008772</td>\n",
       "    </tr>\n",
       "    <tr>\n",
       "      <th id=\"T_10bce_level0_row76\" class=\"row_heading level0 row76\" >264</th>\n",
       "      <td id=\"T_10bce_row76_col0\" class=\"data row76 col0\" >0.008772</td>\n",
       "    </tr>\n",
       "    <tr>\n",
       "      <th id=\"T_10bce_level0_row77\" class=\"row_heading level0 row77\" >271</th>\n",
       "      <td id=\"T_10bce_row77_col0\" class=\"data row77 col0\" >0.008772</td>\n",
       "    </tr>\n",
       "    <tr>\n",
       "      <th id=\"T_10bce_level0_row78\" class=\"row_heading level0 row78\" >275</th>\n",
       "      <td id=\"T_10bce_row78_col0\" class=\"data row78 col0\" >0.008772</td>\n",
       "    </tr>\n",
       "    <tr>\n",
       "      <th id=\"T_10bce_level0_row79\" class=\"row_heading level0 row79\" >288</th>\n",
       "      <td id=\"T_10bce_row79_col0\" class=\"data row79 col0\" >0.008772</td>\n",
       "    </tr>\n",
       "    <tr>\n",
       "      <th id=\"T_10bce_level0_row80\" class=\"row_heading level0 row80\" >292</th>\n",
       "      <td id=\"T_10bce_row80_col0\" class=\"data row80 col0\" >0.008772</td>\n",
       "    </tr>\n",
       "    <tr>\n",
       "      <th id=\"T_10bce_level0_row81\" class=\"row_heading level0 row81\" >299</th>\n",
       "      <td id=\"T_10bce_row81_col0\" class=\"data row81 col0\" >0.008772</td>\n",
       "    </tr>\n",
       "    <tr>\n",
       "      <th id=\"T_10bce_level0_row82\" class=\"row_heading level0 row82\" >305</th>\n",
       "      <td id=\"T_10bce_row82_col0\" class=\"data row82 col0\" >0.008772</td>\n",
       "    </tr>\n",
       "    <tr>\n",
       "      <th id=\"T_10bce_level0_row83\" class=\"row_heading level0 row83\" >321</th>\n",
       "      <td id=\"T_10bce_row83_col0\" class=\"data row83 col0\" >0.008772</td>\n",
       "    </tr>\n",
       "    <tr>\n",
       "      <th id=\"T_10bce_level0_row84\" class=\"row_heading level0 row84\" >329</th>\n",
       "      <td id=\"T_10bce_row84_col0\" class=\"data row84 col0\" >0.008772</td>\n",
       "    </tr>\n",
       "    <tr>\n",
       "      <th id=\"T_10bce_level0_row85\" class=\"row_heading level0 row85\" >374</th>\n",
       "      <td id=\"T_10bce_row85_col0\" class=\"data row85 col0\" >0.008772</td>\n",
       "    </tr>\n",
       "    <tr>\n",
       "      <th id=\"T_10bce_level0_row86\" class=\"row_heading level0 row86\" >397</th>\n",
       "      <td id=\"T_10bce_row86_col0\" class=\"data row86 col0\" >0.008772</td>\n",
       "    </tr>\n",
       "    <tr>\n",
       "      <th id=\"T_10bce_level0_row87\" class=\"row_heading level0 row87\" >417</th>\n",
       "      <td id=\"T_10bce_row87_col0\" class=\"data row87 col0\" >0.008772</td>\n",
       "    </tr>\n",
       "    <tr>\n",
       "      <th id=\"T_10bce_level0_row88\" class=\"row_heading level0 row88\" >562</th>\n",
       "      <td id=\"T_10bce_row88_col0\" class=\"data row88 col0\" >0.008772</td>\n",
       "    </tr>\n",
       "    <tr>\n",
       "      <th id=\"T_10bce_level0_row89\" class=\"row_heading level0 row89\" >593</th>\n",
       "      <td id=\"T_10bce_row89_col0\" class=\"data row89 col0\" >0.008772</td>\n",
       "    </tr>\n",
       "    <tr>\n",
       "      <th id=\"T_10bce_level0_row90\" class=\"row_heading level0 row90\" >1413</th>\n",
       "      <td id=\"T_10bce_row90_col0\" class=\"data row90 col0\" >0.008772</td>\n",
       "    </tr>\n",
       "    <tr>\n",
       "      <th id=\"T_10bce_level0_row91\" class=\"row_heading level0 row91\" >24527</th>\n",
       "      <td id=\"T_10bce_row91_col0\" class=\"data row91 col0\" >0.008772</td>\n",
       "    </tr>\n",
       "  </tbody>\n",
       "</table>\n"
      ],
      "text/plain": [
       "<pandas.io.formats.style.Styler at 0x7f7fd3d63250>"
      ]
     },
     "metadata": {},
     "output_type": "display_data"
    }
   ],
   "source": [
    "# Check the balance of the categorical data\n",
    "for col in onsite_features:\n",
    "  pmf_data = Pmf.from_seq(df_onsite[col], normalize=True)\n",
    "  pmf_data = pd.DataFrame({col:pmf_data.index, 'pmf':pmf_data.values})\n",
    "  pmf_data.set_index(col, inplace=True)\n",
    "  display(pmf_data.style.background_gradient(vmin=0, subset='pmf'))"
   ]
  },
  {
   "cell_type": "code",
   "execution_count": 15,
   "metadata": {},
   "outputs": [
    {
     "data": {
      "image/png": "[encoded data removed]",
      "text/plain": [
       "<Figure size 864x864 with 6 Axes>"
      ]
     },
     "metadata": {
      "needs_background": "light"
     },
     "output_type": "display_data"
    }
   ],
   "source": [
    "# Plot the balance of the categorical data\n",
    "categorical_onsite_features = onsite_features[1:5]\n",
    "fig, ax = plt.subplots(2, 3, figsize=(12,12))\n",
    "axes_list = [axes for axes_row in ax for axes in axes_row]\n",
    "\n",
    "for i, col in enumerate(categorical_onsite_features):\n",
    "  pmf_data = Pmf.from_seq(df_onsite[col], normalize=True)\n",
    "  pmf_data = pd.DataFrame({col:pmf_data.index, 'pmf':pmf_data})\n",
    "\n",
    "  sns.barplot(data=pmf_data, x=col, y='pmf', ax=axes_list[i])\n",
    "  axes_list[i].set_title(f'PMF of {col}')\n",
    "  axes_list[i].set_xlabel('')\n",
    "  axes_list[i].set_ylabel('')\n",
    "  plt.setp(axes_list[i].get_xticklabels(), rotation='vertical')\n",
    "\n",
    "axes_list[-1].set_visible(False)\n",
    "plt.tight_layout()\n",
    "plt.show()"
   ]
  },
  {
   "cell_type": "code",
   "execution_count": 16,
   "metadata": {},
   "outputs": [
    {
     "data": {
      "image/png": "[encoded data removed]",
      "text/plain": [
       "<Figure size 864x432 with 1 Axes>"
      ]
     },
     "metadata": {
      "needs_background": "light"
     },
     "output_type": "display_data"
    }
   ],
   "source": [
    "# Plot the distribution of the numerical data\n",
    "numerical_onsite_features = [onsite_features[0]]\n",
    "fig, ax = plt.subplots(1, 1, figsize=(12,6))\n",
    "\n",
    "for i, col in enumerate(numerical_onsite_features):\n",
    "  # sns.histplot(data=df_onsite, x=col, hue='LVO (incl. M2)', multiple='stack', ax=ax[i])\n",
    "  sns.histplot(data=df_onsite, x=col, hue='lvo', multiple='stack')\n",
    "\n",
    "plt.tight_layout()\n",
    "plt.show()"
   ]
  },
  {
   "cell_type": "code",
   "execution_count": 17,
   "metadata": {},
   "outputs": [
    {
     "data": {
      "image/png": "[encoded data removed]",
      "text/plain": [
       "<Figure size 432x288 with 1 Axes>"
      ]
     },
     "metadata": {
      "needs_background": "light"
     },
     "output_type": "display_data"
    }
   ],
   "source": [
    "# Plot boxplot to obtain any outliers in numerical data\n",
    "for i, col in enumerate(numerical_onsite_features):\n",
    "  sns.boxplot(data=df_onsite, x='lvo', y=col)\n",
    "\n",
    "plt.tight_layout()\n",
    "plt.show()"
   ]
  },
  {
   "cell_type": "code",
   "execution_count": 20,
   "metadata": {},
   "outputs": [],
   "source": [
    "# Upsampling to reduce the imbalanced dataset\n",
    "oversample = SMOTE()\n",
    "eval_df = df_onsite[['age', 'gender', 'lams', 'nihss', 'lvo','time_elapsed']].sample(int(df_onsite.shape[0]*0.2),random_state=42)\n",
    "train_df = df_onsite.drop(index=eval_df.index)\n",
    "\n",
    "X_eval,y_eval = eval_df[['age', 'gender', 'lams', 'nihss','time_elapsed']], eval_df['lvo']\n",
    "X,y = train_df[['age', 'gender', 'lams', 'nihss', 'time_elapsed']], train_df['lvo']\n",
    "\n",
    "\n",
    "X, y = oversample.fit_resample(X,y)\n",
    "usampled_df = X.assign(lvo = y)\n",
    "\n",
    "X_eval,y_eval = oversample.fit_resample(X_eval,y_eval)\n",
    "usampled_eval_df = X_eval.assign(lvo = y_eval)"
   ]
  },
  {
   "cell_type": "code",
   "execution_count": 22,
   "metadata": {},
   "outputs": [
    {
     "data": {
      "application/vnd.plotly.v1+json": {
       "config": {
        "plotlyServerURL": "https://plot.ly"
       },
       "data": [
        {
         "domain": {
          "x": [
           0,
           1
          ],
          "y": [
           0,
           1
          ]
         },
         "hovertemplate": "lvo=%{label}<extra></extra>",
         "labels": [
          0,
          0,
          0,
          1,
          1,
          0,
          1,
          0,
          0,
          0,
          0,
          0,
          0,
          0,
          0,
          1,
          0,
          0,
          0,
          0,
          1,
          0,
          0,
          0,
          0,
          1,
          0,
          0,
          0,
          0,
          0,
          0,
          0,
          0,
          0,
          0,
          0,
          0,
          1,
          0,
          0,
          0,
          0,
          1,
          0,
          0,
          0,
          0,
          0,
          0,
          1,
          0,
          0,
          0,
          0,
          1,
          1,
          0,
          1,
          0,
          0,
          1,
          0,
          0,
          0,
          0,
          1,
          1,
          1,
          1,
          1,
          1,
          1,
          1,
          1,
          1,
          0,
          1,
          0,
          0,
          0,
          1,
          0,
          1,
          0,
          0,
          1,
          1,
          1,
          1,
          1,
          1,
          1,
          1,
          1,
          1,
          1,
          1,
          1,
          1,
          1,
          1,
          1,
          1,
          1,
          1,
          1,
          1,
          1,
          1,
          1,
          1,
          1,
          1,
          1,
          1,
          1,
          1,
          1,
          1
         ],
         "legendgroup": "",
         "name": "",
         "showlegend": true,
         "type": "pie"
        }
       ],
       "layout": {
        "legend": {
         "tracegroupgap": 0
        },
        "margin": {
         "t": 60
        },
        "template": {
         "data": {
          "bar": [
           {
            "error_x": {
             "color": "#2a3f5f"
            },
            "error_y": {
             "color": "#2a3f5f"
            },
            "marker": {
             "line": {
              "color": "#E5ECF6",
              "width": 0.5
             },
             "pattern": {
              "fillmode": "overlay",
              "size": 10,
              "solidity": 0.2
             }
            },
            "type": "bar"
           }
          ],
          "barpolar": [
           {
            "marker": {
             "line": {
              "color": "#E5ECF6",
              "width": 0.5
             },
             "pattern": {
              "fillmode": "overlay",
              "size": 10,
              "solidity": 0.2
             }
            },
            "type": "barpolar"
           }
          ],
          "carpet": [
           {
            "aaxis": {
             "endlinecolor": "#2a3f5f",
             "gridcolor": "white",
             "linecolor": "white",
             "minorgridcolor": "white",
             "startlinecolor": "#2a3f5f"
            },
            "baxis": {
             "endlinecolor": "#2a3f5f",
             "gridcolor": "white",
             "linecolor": "white",
             "minorgridcolor": "white",
             "startlinecolor": "#2a3f5f"
            },
            "type": "carpet"
           }
          ],
          "choropleth": [
           {
            "colorbar": {
             "outlinewidth": 0,
             "ticks": ""
            },
            "type": "choropleth"
           }
          ],
          "contour": [
           {
            "colorbar": {
             "outlinewidth": 0,
             "ticks": ""
            },
            "colorscale": [
             [
              0,
              "#0d0887"
             ],
             [
              0.1111111111111111,
              "#46039f"
             ],
             [
              0.2222222222222222,
              "#7201a8"
             ],
             [
              0.3333333333333333,
              "#9c179e"
             ],
             [
              0.4444444444444444,
              "#bd3786"
             ],
             [
              0.5555555555555556,
              "#d8576b"
             ],
             [
              0.6666666666666666,
              "#ed7953"
             ],
             [
              0.7777777777777778,
              "#fb9f3a"
             ],
             [
              0.8888888888888888,
              "#fdca26"
             ],
             [
              1,
              "#f0f921"
             ]
            ],
            "type": "contour"
           }
          ],
          "contourcarpet": [
           {
            "colorbar": {
             "outlinewidth": 0,
             "ticks": ""
            },
            "type": "contourcarpet"
           }
          ],
          "heatmap": [
           {
            "colorbar": {
             "outlinewidth": 0,
             "ticks": ""
            },
            "colorscale": [
             [
              0,
              "#0d0887"
             ],
             [
              0.1111111111111111,
              "#46039f"
             ],
             [
              0.2222222222222222,
              "#7201a8"
             ],
             [
              0.3333333333333333,
              "#9c179e"
             ],
             [
              0.4444444444444444,
              "#bd3786"
             ],
             [
              0.5555555555555556,
              "#d8576b"
             ],
             [
              0.6666666666666666,
              "#ed7953"
             ],
             [
              0.7777777777777778,
              "#fb9f3a"
             ],
             [
              0.8888888888888888,
              "#fdca26"
             ],
             [
              1,
              "#f0f921"
             ]
            ],
            "type": "heatmap"
           }
          ],
          "heatmapgl": [
           {
            "colorbar": {
             "outlinewidth": 0,
             "ticks": ""
            },
            "colorscale": [
             [
              0,
              "#0d0887"
             ],
             [
              0.1111111111111111,
              "#46039f"
             ],
             [
              0.2222222222222222,
              "#7201a8"
             ],
             [
              0.3333333333333333,
              "#9c179e"
             ],
             [
              0.4444444444444444,
              "#bd3786"
             ],
             [
              0.5555555555555556,
              "#d8576b"
             ],
             [
              0.6666666666666666,
              "#ed7953"
             ],
             [
              0.7777777777777778,
              "#fb9f3a"
             ],
             [
              0.8888888888888888,
              "#fdca26"
             ],
             [
              1,
              "#f0f921"
             ]
            ],
            "type": "heatmapgl"
           }
          ],
          "histogram": [
           {
            "marker": {
             "pattern": {
              "fillmode": "overlay",
              "size": 10,
              "solidity": 0.2
             }
            },
            "type": "histogram"
           }
          ],
          "histogram2d": [
           {
            "colorbar": {
             "outlinewidth": 0,
             "ticks": ""
            },
            "colorscale": [
             [
              0,
              "#0d0887"
             ],
             [
              0.1111111111111111,
              "#46039f"
             ],
             [
              0.2222222222222222,
              "#7201a8"
             ],
             [
              0.3333333333333333,
              "#9c179e"
             ],
             [
              0.4444444444444444,
              "#bd3786"
             ],
             [
              0.5555555555555556,
              "#d8576b"
             ],
             [
              0.6666666666666666,
              "#ed7953"
             ],
             [
              0.7777777777777778,
              "#fb9f3a"
             ],
             [
              0.8888888888888888,
              "#fdca26"
             ],
             [
              1,
              "#f0f921"
             ]
            ],
            "type": "histogram2d"
           }
          ],
          "histogram2dcontour": [
           {
            "colorbar": {
             "outlinewidth": 0,
             "ticks": ""
            },
            "colorscale": [
             [
              0,
              "#0d0887"
             ],
             [
              0.1111111111111111,
              "#46039f"
             ],
             [
              0.2222222222222222,
              "#7201a8"
             ],
             [
              0.3333333333333333,
              "#9c179e"
             ],
             [
              0.4444444444444444,
              "#bd3786"
             ],
             [
              0.5555555555555556,
              "#d8576b"
             ],
             [
              0.6666666666666666,
              "#ed7953"
             ],
             [
              0.7777777777777778,
              "#fb9f3a"
             ],
             [
              0.8888888888888888,
              "#fdca26"
             ],
             [
              1,
              "#f0f921"
             ]
            ],
            "type": "histogram2dcontour"
           }
          ],
          "mesh3d": [
           {
            "colorbar": {
             "outlinewidth": 0,
             "ticks": ""
            },
            "type": "mesh3d"
           }
          ],
          "parcoords": [
           {
            "line": {
             "colorbar": {
              "outlinewidth": 0,
              "ticks": ""
             }
            },
            "type": "parcoords"
           }
          ],
          "pie": [
           {
            "automargin": true,
            "type": "pie"
           }
          ],
          "scatter": [
           {
            "marker": {
             "colorbar": {
              "outlinewidth": 0,
              "ticks": ""
             }
            },
            "type": "scatter"
           }
          ],
          "scatter3d": [
           {
            "line": {
             "colorbar": {
              "outlinewidth": 0,
              "ticks": ""
             }
            },
            "marker": {
             "colorbar": {
              "outlinewidth": 0,
              "ticks": ""
             }
            },
            "type": "scatter3d"
           }
          ],
          "scattercarpet": [
           {
            "marker": {
             "colorbar": {
              "outlinewidth": 0,
              "ticks": ""
             }
            },
            "type": "scattercarpet"
           }
          ],
          "scattergeo": [
           {
            "marker": {
             "colorbar": {
              "outlinewidth": 0,
              "ticks": ""
             }
            },
            "type": "scattergeo"
           }
          ],
          "scattergl": [
           {
            "marker": {
             "colorbar": {
              "outlinewidth": 0,
              "ticks": ""
             }
            },
            "type": "scattergl"
           }
          ],
          "scattermapbox": [
           {
            "marker": {
             "colorbar": {
              "outlinewidth": 0,
              "ticks": ""
             }
            },
            "type": "scattermapbox"
           }
          ],
          "scatterpolar": [
           {
            "marker": {
             "colorbar": {
              "outlinewidth": 0,
              "ticks": ""
             }
            },
            "type": "scatterpolar"
           }
          ],
          "scatterpolargl": [
           {
            "marker": {
             "colorbar": {
              "outlinewidth": 0,
              "ticks": ""
             }
            },
            "type": "scatterpolargl"
           }
          ],
          "scatterternary": [
           {
            "marker": {
             "colorbar": {
              "outlinewidth": 0,
              "ticks": ""
             }
            },
            "type": "scatterternary"
           }
          ],
          "surface": [
           {
            "colorbar": {
             "outlinewidth": 0,
             "ticks": ""
            },
            "colorscale": [
             [
              0,
              "#0d0887"
             ],
             [
              0.1111111111111111,
              "#46039f"
             ],
             [
              0.2222222222222222,
              "#7201a8"
             ],
             [
              0.3333333333333333,
              "#9c179e"
             ],
             [
              0.4444444444444444,
              "#bd3786"
             ],
             [
              0.5555555555555556,
              "#d8576b"
             ],
             [
              0.6666666666666666,
              "#ed7953"
             ],
             [
              0.7777777777777778,
              "#fb9f3a"
             ],
             [
              0.8888888888888888,
              "#fdca26"
             ],
             [
              1,
              "#f0f921"
             ]
            ],
            "type": "surface"
           }
          ],
          "table": [
           {
            "cells": {
             "fill": {
              "color": "#EBF0F8"
             },
             "line": {
              "color": "white"
             }
            },
            "header": {
             "fill": {
              "color": "#C8D4E3"
             },
             "line": {
              "color": "white"
             }
            },
            "type": "table"
           }
          ]
         },
         "layout": {
          "annotationdefaults": {
           "arrowcolor": "#2a3f5f",
           "arrowhead": 0,
           "arrowwidth": 1
          },
          "autotypenumbers": "strict",
          "coloraxis": {
           "colorbar": {
            "outlinewidth": 0,
            "ticks": ""
           }
          },
          "colorscale": {
           "diverging": [
            [
             0,
             "#8e0152"
            ],
            [
             0.1,
             "#c51b7d"
            ],
            [
             0.2,
             "#de77ae"
            ],
            [
             0.3,
             "#f1b6da"
            ],
            [
             0.4,
             "#fde0ef"
            ],
            [
             0.5,
             "#f7f7f7"
            ],
            [
             0.6,
             "#e6f5d0"
            ],
            [
             0.7,
             "#b8e186"
            ],
            [
             0.8,
             "#7fbc41"
            ],
            [
             0.9,
             "#4d9221"
            ],
            [
             1,
             "#276419"
            ]
           ],
           "sequential": [
            [
             0,
             "#0d0887"
            ],
            [
             0.1111111111111111,
             "#46039f"
            ],
            [
             0.2222222222222222,
             "#7201a8"
            ],
            [
             0.3333333333333333,
             "#9c179e"
            ],
            [
             0.4444444444444444,
             "#bd3786"
            ],
            [
             0.5555555555555556,
             "#d8576b"
            ],
            [
             0.6666666666666666,
             "#ed7953"
            ],
            [
             0.7777777777777778,
             "#fb9f3a"
            ],
            [
             0.8888888888888888,
             "#fdca26"
            ],
            [
             1,
             "#f0f921"
            ]
           ],
           "sequentialminus": [
            [
             0,
             "#0d0887"
            ],
            [
             0.1111111111111111,
             "#46039f"
            ],
            [
             0.2222222222222222,
             "#7201a8"
            ],
            [
             0.3333333333333333,
             "#9c179e"
            ],
            [
             0.4444444444444444,
             "#bd3786"
            ],
            [
             0.5555555555555556,
             "#d8576b"
            ],
            [
             0.6666666666666666,
             "#ed7953"
            ],
            [
             0.7777777777777778,
             "#fb9f3a"
            ],
            [
             0.8888888888888888,
             "#fdca26"
            ],
            [
             1,
             "#f0f921"
            ]
           ]
          },
          "colorway": [
           "#636efa",
           "#EF553B",
           "#00cc96",
           "#ab63fa",
           "#FFA15A",
           "#19d3f3",
           "#FF6692",
           "#B6E880",
           "#FF97FF",
           "#FECB52"
          ],
          "font": {
           "color": "#2a3f5f"
          },
          "geo": {
           "bgcolor": "white",
           "lakecolor": "white",
           "landcolor": "#E5ECF6",
           "showlakes": true,
           "showland": true,
           "subunitcolor": "white"
          },
          "hoverlabel": {
           "align": "left"
          },
          "hovermode": "closest",
          "mapbox": {
           "style": "light"
          },
          "paper_bgcolor": "white",
          "plot_bgcolor": "#E5ECF6",
          "polar": {
           "angularaxis": {
            "gridcolor": "white",
            "linecolor": "white",
            "ticks": ""
           },
           "bgcolor": "#E5ECF6",
           "radialaxis": {
            "gridcolor": "white",
            "linecolor": "white",
            "ticks": ""
           }
          },
          "scene": {
           "xaxis": {
            "backgroundcolor": "#E5ECF6",
            "gridcolor": "white",
            "gridwidth": 2,
            "linecolor": "white",
            "showbackground": true,
            "ticks": "",
            "zerolinecolor": "white"
           },
           "yaxis": {
            "backgroundcolor": "#E5ECF6",
            "gridcolor": "white",
            "gridwidth": 2,
            "linecolor": "white",
            "showbackground": true,
            "ticks": "",
            "zerolinecolor": "white"
           },
           "zaxis": {
            "backgroundcolor": "#E5ECF6",
            "gridcolor": "white",
            "gridwidth": 2,
            "linecolor": "white",
            "showbackground": true,
            "ticks": "",
            "zerolinecolor": "white"
           }
          },
          "shapedefaults": {
           "line": {
            "color": "#2a3f5f"
           }
          },
          "ternary": {
           "aaxis": {
            "gridcolor": "white",
            "linecolor": "white",
            "ticks": ""
           },
           "baxis": {
            "gridcolor": "white",
            "linecolor": "white",
            "ticks": ""
           },
           "bgcolor": "#E5ECF6",
           "caxis": {
            "gridcolor": "white",
            "linecolor": "white",
            "ticks": ""
           }
          },
          "title": {
           "x": 0.05
          },
          "xaxis": {
           "automargin": true,
           "gridcolor": "white",
           "linecolor": "white",
           "ticks": "",
           "title": {
            "standoff": 15
           },
           "zerolinecolor": "white",
           "zerolinewidth": 2
          },
          "yaxis": {
           "automargin": true,
           "gridcolor": "white",
           "linecolor": "white",
           "ticks": "",
           "title": {
            "standoff": 15
           },
           "zerolinecolor": "white",
           "zerolinewidth": 2
          }
         }
        },
        "title": {
         "text": "<b>Stroke Proportion After SMOTE Upsampling<b>"
        }
       }
      }
     },
     "metadata": {},
     "output_type": "display_data"
    }
   ],
   "source": [
    "fig = ex.pie(usampled_df,names='lvo')\n",
    "fig.update_layout(title='<b>Stroke Proportion After SMOTE Upsampling<b>')\n",
    "fig.show()"
   ]
  },
  {
   "cell_type": "code",
   "execution_count": 23,
   "metadata": {},
   "outputs": [],
   "source": [
    "DT_PIPE = Pipeline(steps = [('scale',StandardScaler()),('DT',DecisionTreeClassifier(random_state=42))])\n",
    "RF_PIPE = Pipeline(steps = [('scale',StandardScaler()),('DT',RandomForestClassifier(random_state=42))])\n",
    "SVM_PIPE = Pipeline(steps = [('scale',StandardScaler()),('DT',SVC(random_state=42))])\n",
    "LR_PIPE = Pipeline(steps = [('scale',StandardScaler()),('DT',LogisticRegression(random_state=42))])\n",
    "\n",
    "X = usampled_df.iloc[:,:-1]\n",
    "Y = usampled_df.iloc[:,-1]\n",
    "\n",
    "X_EVAL = usampled_eval_df.iloc[:,:-1]\n",
    "Y_EVAL = usampled_eval_df.iloc[:,-1]\n",
    "\n",
    "holdout_x = X.sample(100)\n",
    "holdout_y = Y.loc[X.index]\n",
    "\n",
    "X = X.drop(index=holdout_x.index)\n",
    "Y = Y.drop(index=holdout_x.index)"
   ]
  },
  {
   "cell_type": "code",
   "execution_count": 24,
   "metadata": {},
   "outputs": [],
   "source": [
    "DT_CROSS_VAL = cross_val_score(DT_PIPE,X,Y,cv=5,scoring='accuracy')\n",
    "RF_CROSS_VAL = cross_val_score(RF_PIPE,X,Y,cv=5,scoring='accuracy')\n",
    "SVM_CROSS_VAL = cross_val_score(SVM_PIPE,X,Y,cv=5,scoring='accuracy')\n",
    "LR_CROSS_VAL = cross_val_score(LR_PIPE,X,Y,cv=5,scoring='accuracy')"
   ]
  },
  {
   "cell_type": "code",
   "execution_count": 25,
   "metadata": {},
   "outputs": [
    {
     "data": {
      "application/vnd.plotly.v1+json": {
       "config": {
        "plotlyServerURL": "https://plot.ly"
       },
       "data": [
        {
         "name": "Decision Tree",
         "type": "scatter",
         "x": [
          0,
          1,
          2,
          3,
          4
         ],
         "xaxis": "x",
         "y": [
          0.75,
          0.5,
          0.75,
          0.5,
          0.75
         ],
         "yaxis": "y"
        },
        {
         "name": "RandomForest",
         "type": "scatter",
         "x": [
          0,
          1,
          2,
          3,
          4
         ],
         "xaxis": "x2",
         "y": [
          0.75,
          0.75,
          0.5,
          0.5,
          0.75
         ],
         "yaxis": "y2"
        },
        {
         "name": "SVM",
         "type": "scatter",
         "x": [
          0,
          1,
          2,
          3,
          4
         ],
         "xaxis": "x3",
         "y": [
          0.75,
          0.75,
          0.5,
          0.5,
          1
         ],
         "yaxis": "y3"
        },
        {
         "name": "Logistic Regression",
         "type": "scatter",
         "x": [
          0,
          1,
          2,
          3,
          4
         ],
         "xaxis": "x4",
         "y": [
          0.5,
          1,
          0.5,
          0.5,
          1
         ],
         "yaxis": "y4"
        }
       ],
       "layout": {
        "annotations": [
         {
          "font": {
           "size": 16
          },
          "showarrow": false,
          "text": "Decision Tree Cross Val Scores",
          "x": 0.5,
          "xanchor": "center",
          "xref": "paper",
          "y": 1,
          "yanchor": "bottom",
          "yref": "paper"
         },
         {
          "font": {
           "size": 16
          },
          "showarrow": false,
          "text": "RandomForest Cross Val Scores",
          "x": 0.5,
          "xanchor": "center",
          "xref": "paper",
          "y": 0.71875,
          "yanchor": "bottom",
          "yref": "paper"
         },
         {
          "font": {
           "size": 16
          },
          "showarrow": false,
          "text": "SVM Cross Val Scores",
          "x": 0.5,
          "xanchor": "center",
          "xref": "paper",
          "y": 0.4375,
          "yanchor": "bottom",
          "yref": "paper"
         },
         {
          "font": {
           "size": 16
          },
          "showarrow": false,
          "text": "Logistic Regression Cross Val Scores",
          "x": 0.5,
          "xanchor": "center",
          "xref": "paper",
          "y": 0.15625,
          "yanchor": "bottom",
          "yref": "paper"
         }
        ],
        "height": 700,
        "template": {
         "data": {
          "bar": [
           {
            "error_x": {
             "color": "#2a3f5f"
            },
            "error_y": {
             "color": "#2a3f5f"
            },
            "marker": {
             "line": {
              "color": "#E5ECF6",
              "width": 0.5
             },
             "pattern": {
              "fillmode": "overlay",
              "size": 10,
              "solidity": 0.2
             }
            },
            "type": "bar"
           }
          ],
          "barpolar": [
           {
            "marker": {
             "line": {
              "color": "#E5ECF6",
              "width": 0.5
             },
             "pattern": {
              "fillmode": "overlay",
              "size": 10,
              "solidity": 0.2
             }
            },
            "type": "barpolar"
           }
          ],
          "carpet": [
           {
            "aaxis": {
             "endlinecolor": "#2a3f5f",
             "gridcolor": "white",
             "linecolor": "white",
             "minorgridcolor": "white",
             "startlinecolor": "#2a3f5f"
            },
            "baxis": {
             "endlinecolor": "#2a3f5f",
             "gridcolor": "white",
             "linecolor": "white",
             "minorgridcolor": "white",
             "startlinecolor": "#2a3f5f"
            },
            "type": "carpet"
           }
          ],
          "choropleth": [
           {
            "colorbar": {
             "outlinewidth": 0,
             "ticks": ""
            },
            "type": "choropleth"
           }
          ],
          "contour": [
           {
            "colorbar": {
             "outlinewidth": 0,
             "ticks": ""
            },
            "colorscale": [
             [
              0,
              "#0d0887"
             ],
             [
              0.1111111111111111,
              "#46039f"
             ],
             [
              0.2222222222222222,
              "#7201a8"
             ],
             [
              0.3333333333333333,
              "#9c179e"
             ],
             [
              0.4444444444444444,
              "#bd3786"
             ],
             [
              0.5555555555555556,
              "#d8576b"
             ],
             [
              0.6666666666666666,
              "#ed7953"
             ],
             [
              0.7777777777777778,
              "#fb9f3a"
             ],
             [
              0.8888888888888888,
              "#fdca26"
             ],
             [
              1,
              "#f0f921"
             ]
            ],
            "type": "contour"
           }
          ],
          "contourcarpet": [
           {
            "colorbar": {
             "outlinewidth": 0,
             "ticks": ""
            },
            "type": "contourcarpet"
           }
          ],
          "heatmap": [
           {
            "colorbar": {
             "outlinewidth": 0,
             "ticks": ""
            },
            "colorscale": [
             [
              0,
              "#0d0887"
             ],
             [
              0.1111111111111111,
              "#46039f"
             ],
             [
              0.2222222222222222,
              "#7201a8"
             ],
             [
              0.3333333333333333,
              "#9c179e"
             ],
             [
              0.4444444444444444,
              "#bd3786"
             ],
             [
              0.5555555555555556,
              "#d8576b"
             ],
             [
              0.6666666666666666,
              "#ed7953"
             ],
             [
              0.7777777777777778,
              "#fb9f3a"
             ],
             [
              0.8888888888888888,
              "#fdca26"
             ],
             [
              1,
              "#f0f921"
             ]
            ],
            "type": "heatmap"
           }
          ],
          "heatmapgl": [
           {
            "colorbar": {
             "outlinewidth": 0,
             "ticks": ""
            },
            "colorscale": [
             [
              0,
              "#0d0887"
             ],
             [
              0.1111111111111111,
              "#46039f"
             ],
             [
              0.2222222222222222,
              "#7201a8"
             ],
             [
              0.3333333333333333,
              "#9c179e"
             ],
             [
              0.4444444444444444,
              "#bd3786"
             ],
             [
              0.5555555555555556,
              "#d8576b"
             ],
             [
              0.6666666666666666,
              "#ed7953"
             ],
             [
              0.7777777777777778,
              "#fb9f3a"
             ],
             [
              0.8888888888888888,
              "#fdca26"
             ],
             [
              1,
              "#f0f921"
             ]
            ],
            "type": "heatmapgl"
           }
          ],
          "histogram": [
           {
            "marker": {
             "pattern": {
              "fillmode": "overlay",
              "size": 10,
              "solidity": 0.2
             }
            },
            "type": "histogram"
           }
          ],
          "histogram2d": [
           {
            "colorbar": {
             "outlinewidth": 0,
             "ticks": ""
            },
            "colorscale": [
             [
              0,
              "#0d0887"
             ],
             [
              0.1111111111111111,
              "#46039f"
             ],
             [
              0.2222222222222222,
              "#7201a8"
             ],
             [
              0.3333333333333333,
              "#9c179e"
             ],
             [
              0.4444444444444444,
              "#bd3786"
             ],
             [
              0.5555555555555556,
              "#d8576b"
             ],
             [
              0.6666666666666666,
              "#ed7953"
             ],
             [
              0.7777777777777778,
              "#fb9f3a"
             ],
             [
              0.8888888888888888,
              "#fdca26"
             ],
             [
              1,
              "#f0f921"
             ]
            ],
            "type": "histogram2d"
           }
          ],
          "histogram2dcontour": [
           {
            "colorbar": {
             "outlinewidth": 0,
             "ticks": ""
            },
            "colorscale": [
             [
              0,
              "#0d0887"
             ],
             [
              0.1111111111111111,
              "#46039f"
             ],
             [
              0.2222222222222222,
              "#7201a8"
             ],
             [
              0.3333333333333333,
              "#9c179e"
             ],
             [
              0.4444444444444444,
              "#bd3786"
             ],
             [
              0.5555555555555556,
              "#d8576b"
             ],
             [
              0.6666666666666666,
              "#ed7953"
             ],
             [
              0.7777777777777778,
              "#fb9f3a"
             ],
             [
              0.8888888888888888,
              "#fdca26"
             ],
             [
              1,
              "#f0f921"
             ]
            ],
            "type": "histogram2dcontour"
           }
          ],
          "mesh3d": [
           {
            "colorbar": {
             "outlinewidth": 0,
             "ticks": ""
            },
            "type": "mesh3d"
           }
          ],
          "parcoords": [
           {
            "line": {
             "colorbar": {
              "outlinewidth": 0,
              "ticks": ""
             }
            },
            "type": "parcoords"
           }
          ],
          "pie": [
           {
            "automargin": true,
            "type": "pie"
           }
          ],
          "scatter": [
           {
            "marker": {
             "colorbar": {
              "outlinewidth": 0,
              "ticks": ""
             }
            },
            "type": "scatter"
           }
          ],
          "scatter3d": [
           {
            "line": {
             "colorbar": {
              "outlinewidth": 0,
              "ticks": ""
             }
            },
            "marker": {
             "colorbar": {
              "outlinewidth": 0,
              "ticks": ""
             }
            },
            "type": "scatter3d"
           }
          ],
          "scattercarpet": [
           {
            "marker": {
             "colorbar": {
              "outlinewidth": 0,
              "ticks": ""
             }
            },
            "type": "scattercarpet"
           }
          ],
          "scattergeo": [
           {
            "marker": {
             "colorbar": {
              "outlinewidth": 0,
              "ticks": ""
             }
            },
            "type": "scattergeo"
           }
          ],
          "scattergl": [
           {
            "marker": {
             "colorbar": {
              "outlinewidth": 0,
              "ticks": ""
             }
            },
            "type": "scattergl"
           }
          ],
          "scattermapbox": [
           {
            "marker": {
             "colorbar": {
              "outlinewidth": 0,
              "ticks": ""
             }
            },
            "type": "scattermapbox"
           }
          ],
          "scatterpolar": [
           {
            "marker": {
             "colorbar": {
              "outlinewidth": 0,
              "ticks": ""
             }
            },
            "type": "scatterpolar"
           }
          ],
          "scatterpolargl": [
           {
            "marker": {
             "colorbar": {
              "outlinewidth": 0,
              "ticks": ""
             }
            },
            "type": "scatterpolargl"
           }
          ],
          "scatterternary": [
           {
            "marker": {
             "colorbar": {
              "outlinewidth": 0,
              "ticks": ""
             }
            },
            "type": "scatterternary"
           }
          ],
          "surface": [
           {
            "colorbar": {
             "outlinewidth": 0,
             "ticks": ""
            },
            "colorscale": [
             [
              0,
              "#0d0887"
             ],
             [
              0.1111111111111111,
              "#46039f"
             ],
             [
              0.2222222222222222,
              "#7201a8"
             ],
             [
              0.3333333333333333,
              "#9c179e"
             ],
             [
              0.4444444444444444,
              "#bd3786"
             ],
             [
              0.5555555555555556,
              "#d8576b"
             ],
             [
              0.6666666666666666,
              "#ed7953"
             ],
             [
              0.7777777777777778,
              "#fb9f3a"
             ],
             [
              0.8888888888888888,
              "#fdca26"
             ],
             [
              1,
              "#f0f921"
             ]
            ],
            "type": "surface"
           }
          ],
          "table": [
           {
            "cells": {
             "fill": {
              "color": "#EBF0F8"
             },
             "line": {
              "color": "white"
             }
            },
            "header": {
             "fill": {
              "color": "#C8D4E3"
             },
             "line": {
              "color": "white"
             }
            },
            "type": "table"
           }
          ]
         },
         "layout": {
          "annotationdefaults": {
           "arrowcolor": "#2a3f5f",
           "arrowhead": 0,
           "arrowwidth": 1
          },
          "autotypenumbers": "strict",
          "coloraxis": {
           "colorbar": {
            "outlinewidth": 0,
            "ticks": ""
           }
          },
          "colorscale": {
           "diverging": [
            [
             0,
             "#8e0152"
            ],
            [
             0.1,
             "#c51b7d"
            ],
            [
             0.2,
             "#de77ae"
            ],
            [
             0.3,
             "#f1b6da"
            ],
            [
             0.4,
             "#fde0ef"
            ],
            [
             0.5,
             "#f7f7f7"
            ],
            [
             0.6,
             "#e6f5d0"
            ],
            [
             0.7,
             "#b8e186"
            ],
            [
             0.8,
             "#7fbc41"
            ],
            [
             0.9,
             "#4d9221"
            ],
            [
             1,
             "#276419"
            ]
           ],
           "sequential": [
            [
             0,
             "#0d0887"
            ],
            [
             0.1111111111111111,
             "#46039f"
            ],
            [
             0.2222222222222222,
             "#7201a8"
            ],
            [
             0.3333333333333333,
             "#9c179e"
            ],
            [
             0.4444444444444444,
             "#bd3786"
            ],
            [
             0.5555555555555556,
             "#d8576b"
            ],
            [
             0.6666666666666666,
             "#ed7953"
            ],
            [
             0.7777777777777778,
             "#fb9f3a"
            ],
            [
             0.8888888888888888,
             "#fdca26"
            ],
            [
             1,
             "#f0f921"
            ]
           ],
           "sequentialminus": [
            [
             0,
             "#0d0887"
            ],
            [
             0.1111111111111111,
             "#46039f"
            ],
            [
             0.2222222222222222,
             "#7201a8"
            ],
            [
             0.3333333333333333,
             "#9c179e"
            ],
            [
             0.4444444444444444,
             "#bd3786"
            ],
            [
             0.5555555555555556,
             "#d8576b"
            ],
            [
             0.6666666666666666,
             "#ed7953"
            ],
            [
             0.7777777777777778,
             "#fb9f3a"
            ],
            [
             0.8888888888888888,
             "#fdca26"
            ],
            [
             1,
             "#f0f921"
            ]
           ]
          },
          "colorway": [
           "#636efa",
           "#EF553B",
           "#00cc96",
           "#ab63fa",
           "#FFA15A",
           "#19d3f3",
           "#FF6692",
           "#B6E880",
           "#FF97FF",
           "#FECB52"
          ],
          "font": {
           "color": "#2a3f5f"
          },
          "geo": {
           "bgcolor": "white",
           "lakecolor": "white",
           "landcolor": "#E5ECF6",
           "showlakes": true,
           "showland": true,
           "subunitcolor": "white"
          },
          "hoverlabel": {
           "align": "left"
          },
          "hovermode": "closest",
          "mapbox": {
           "style": "light"
          },
          "paper_bgcolor": "white",
          "plot_bgcolor": "#E5ECF6",
          "polar": {
           "angularaxis": {
            "gridcolor": "white",
            "linecolor": "white",
            "ticks": ""
           },
           "bgcolor": "#E5ECF6",
           "radialaxis": {
            "gridcolor": "white",
            "linecolor": "white",
            "ticks": ""
           }
          },
          "scene": {
           "xaxis": {
            "backgroundcolor": "#E5ECF6",
            "gridcolor": "white",
            "gridwidth": 2,
            "linecolor": "white",
            "showbackground": true,
            "ticks": "",
            "zerolinecolor": "white"
           },
           "yaxis": {
            "backgroundcolor": "#E5ECF6",
            "gridcolor": "white",
            "gridwidth": 2,
            "linecolor": "white",
            "showbackground": true,
            "ticks": "",
            "zerolinecolor": "white"
           },
           "zaxis": {
            "backgroundcolor": "#E5ECF6",
            "gridcolor": "white",
            "gridwidth": 2,
            "linecolor": "white",
            "showbackground": true,
            "ticks": "",
            "zerolinecolor": "white"
           }
          },
          "shapedefaults": {
           "line": {
            "color": "#2a3f5f"
           }
          },
          "ternary": {
           "aaxis": {
            "gridcolor": "white",
            "linecolor": "white",
            "ticks": ""
           },
           "baxis": {
            "gridcolor": "white",
            "linecolor": "white",
            "ticks": ""
           },
           "bgcolor": "#E5ECF6",
           "caxis": {
            "gridcolor": "white",
            "linecolor": "white",
            "ticks": ""
           }
          },
          "title": {
           "x": 0.05
          },
          "xaxis": {
           "automargin": true,
           "gridcolor": "white",
           "linecolor": "white",
           "ticks": "",
           "title": {
            "standoff": 15
           },
           "zerolinecolor": "white",
           "zerolinewidth": 2
          },
          "yaxis": {
           "automargin": true,
           "gridcolor": "white",
           "linecolor": "white",
           "ticks": "",
           "title": {
            "standoff": 15
           },
           "zerolinecolor": "white",
           "zerolinewidth": 2
          }
         }
        },
        "title": {
         "text": "Different Model 5 Fold Cross Validation"
        },
        "width": 900,
        "xaxis": {
         "anchor": "y",
         "domain": [
          0,
          1
         ],
         "matches": "x4",
         "showticklabels": false,
         "title": {
          "text": "Fold #"
         }
        },
        "xaxis2": {
         "anchor": "y2",
         "domain": [
          0,
          1
         ],
         "matches": "x4",
         "showticklabels": false,
         "title": {
          "text": "Fold #"
         }
        },
        "xaxis3": {
         "anchor": "y3",
         "domain": [
          0,
          1
         ],
         "matches": "x4",
         "showticklabels": false,
         "title": {
          "text": "Fold #"
         }
        },
        "xaxis4": {
         "anchor": "y4",
         "domain": [
          0,
          1
         ],
         "title": {
          "text": "Fold #"
         }
        },
        "yaxis": {
         "anchor": "x",
         "domain": [
          0.84375,
          1
         ],
         "title": {
          "text": "Accuracy"
         }
        },
        "yaxis2": {
         "anchor": "x2",
         "domain": [
          0.5625,
          0.71875
         ],
         "title": {
          "text": "Accuracy"
         }
        },
        "yaxis3": {
         "anchor": "x3",
         "domain": [
          0.28125,
          0.4375
         ],
         "title": {
          "text": "Accuracy"
         }
        },
        "yaxis4": {
         "anchor": "x4",
         "domain": [
          0,
          0.15625
         ],
         "title": {
          "text": "Accuracy"
         }
        }
       }
      }
     },
     "metadata": {},
     "output_type": "display_data"
    }
   ],
   "source": [
    "fig = make_subplots(rows=4, cols=1,shared_xaxes=True,subplot_titles=('Decision Tree Cross Val Scores',\n",
    "                                                                     'RandomForest Cross Val Scores',\n",
    "                                                                    'SVM Cross Val Scores','Logistic Regression Cross Val Scores'))\n",
    "\n",
    "fig.add_trace(\n",
    "    go.Scatter(x=list(range(0,len(DT_CROSS_VAL))),y=DT_CROSS_VAL,name='Decision Tree'),\n",
    "    row=1, col=1\n",
    ")\n",
    "fig.add_trace(\n",
    "    go.Scatter(x=list(range(0,len(DT_CROSS_VAL))),y=RF_CROSS_VAL,name='RandomForest'),\n",
    "    row=2, col=1\n",
    ")\n",
    "fig.add_trace(\n",
    "    go.Scatter(x=list(range(0,len(DT_CROSS_VAL))),y=SVM_CROSS_VAL,name='SVM'),\n",
    "    row=3, col=1\n",
    ")\n",
    "fig.add_trace(\n",
    "    go.Scatter(x=list(range(0,len(DT_CROSS_VAL))),y=LR_CROSS_VAL,name='Logistic Regression'),\n",
    "    row=4, col=1\n",
    ")\n",
    "\n",
    "fig.update_layout(height=700, width=900, title_text=\"Different Model 5 Fold Cross Validation\")\n",
    "fig.update_yaxes(title_text=\"Accuracy\")\n",
    "fig.update_xaxes(title_text=\"Fold #\")\n",
    "\n",
    "fig.show()"
   ]
  },
  {
   "cell_type": "code",
   "execution_count": 26,
   "metadata": {},
   "outputs": [],
   "source": [
    "DT_PIPE.fit(X,Y)\n",
    "RF_PIPE.fit(X,Y)\n",
    "SVM_PIPE.fit(X,Y)\n",
    "LR_PIPE.fit(X,Y)\n",
    "\n",
    "X = df_onsite.loc[:,X.columns]\n",
    "Y = df_onsite.loc[:,'lvo']\n",
    "\n",
    "DT_PRED   = DT_PIPE.predict(X_EVAL)\n",
    "RF_PRED   =RF_PIPE.predict(X_EVAL)\n",
    "SVM_PRED  = SVM_PIPE.predict(X_EVAL)\n",
    "LR_PRED   = LR_PIPE.predict(X_EVAL)\n",
    "\n",
    "DT_CM  = confusion_matrix(Y_EVAL,DT_PRED )\n",
    "RF_CM  = confusion_matrix(Y_EVAL,RF_PRED )\n",
    "SVM_CM = confusion_matrix(Y_EVAL,SVM_PRED)\n",
    "LR_CM  = confusion_matrix(Y_EVAL,LR_PRED )\n",
    "\n",
    "DT_F1  = accuracy_score(Y_EVAL,DT_PRED )\n",
    "RF_F1  = accuracy_score(Y_EVAL,RF_PRED )\n",
    "SVM_F1 = accuracy_score(Y_EVAL,SVM_PRED)\n",
    "LR_F1  = accuracy_score(Y_EVAL,LR_PRED )"
   ]
  },
  {
   "cell_type": "code",
   "execution_count": 27,
   "metadata": {},
   "outputs": [
    {
     "data": {
      "application/vnd.plotly.v1+json": {
       "config": {
        "plotlyServerURL": "https://plot.ly"
       },
       "data": [
        {
         "type": "bar",
         "x": [
          "age",
          "gender",
          "lams",
          "nihss",
          "time_elapsed"
         ],
         "y": [
          0.18503597912517414,
          0.03537469588392208,
          0.24185950884067922,
          0.23284196851935876,
          0.3048878476308658
         ]
        }
       ],
       "layout": {
        "template": {
         "data": {
          "bar": [
           {
            "error_x": {
             "color": "#2a3f5f"
            },
            "error_y": {
             "color": "#2a3f5f"
            },
            "marker": {
             "line": {
              "color": "#E5ECF6",
              "width": 0.5
             },
             "pattern": {
              "fillmode": "overlay",
              "size": 10,
              "solidity": 0.2
             }
            },
            "type": "bar"
           }
          ],
          "barpolar": [
           {
            "marker": {
             "line": {
              "color": "#E5ECF6",
              "width": 0.5
             },
             "pattern": {
              "fillmode": "overlay",
              "size": 10,
              "solidity": 0.2
             }
            },
            "type": "barpolar"
           }
          ],
          "carpet": [
           {
            "aaxis": {
             "endlinecolor": "#2a3f5f",
             "gridcolor": "white",
             "linecolor": "white",
             "minorgridcolor": "white",
             "startlinecolor": "#2a3f5f"
            },
            "baxis": {
             "endlinecolor": "#2a3f5f",
             "gridcolor": "white",
             "linecolor": "white",
             "minorgridcolor": "white",
             "startlinecolor": "#2a3f5f"
            },
            "type": "carpet"
           }
          ],
          "choropleth": [
           {
            "colorbar": {
             "outlinewidth": 0,
             "ticks": ""
            },
            "type": "choropleth"
           }
          ],
          "contour": [
           {
            "colorbar": {
             "outlinewidth": 0,
             "ticks": ""
            },
            "colorscale": [
             [
              0,
              "#0d0887"
             ],
             [
              0.1111111111111111,
              "#46039f"
             ],
             [
              0.2222222222222222,
              "#7201a8"
             ],
             [
              0.3333333333333333,
              "#9c179e"
             ],
             [
              0.4444444444444444,
              "#bd3786"
             ],
             [
              0.5555555555555556,
              "#d8576b"
             ],
             [
              0.6666666666666666,
              "#ed7953"
             ],
             [
              0.7777777777777778,
              "#fb9f3a"
             ],
             [
              0.8888888888888888,
              "#fdca26"
             ],
             [
              1,
              "#f0f921"
             ]
            ],
            "type": "contour"
           }
          ],
          "contourcarpet": [
           {
            "colorbar": {
             "outlinewidth": 0,
             "ticks": ""
            },
            "type": "contourcarpet"
           }
          ],
          "heatmap": [
           {
            "colorbar": {
             "outlinewidth": 0,
             "ticks": ""
            },
            "colorscale": [
             [
              0,
              "#0d0887"
             ],
             [
              0.1111111111111111,
              "#46039f"
             ],
             [
              0.2222222222222222,
              "#7201a8"
             ],
             [
              0.3333333333333333,
              "#9c179e"
             ],
             [
              0.4444444444444444,
              "#bd3786"
             ],
             [
              0.5555555555555556,
              "#d8576b"
             ],
             [
              0.6666666666666666,
              "#ed7953"
             ],
             [
              0.7777777777777778,
              "#fb9f3a"
             ],
             [
              0.8888888888888888,
              "#fdca26"
             ],
             [
              1,
              "#f0f921"
             ]
            ],
            "type": "heatmap"
           }
          ],
          "heatmapgl": [
           {
            "colorbar": {
             "outlinewidth": 0,
             "ticks": ""
            },
            "colorscale": [
             [
              0,
              "#0d0887"
             ],
             [
              0.1111111111111111,
              "#46039f"
             ],
             [
              0.2222222222222222,
              "#7201a8"
             ],
             [
              0.3333333333333333,
              "#9c179e"
             ],
             [
              0.4444444444444444,
              "#bd3786"
             ],
             [
              0.5555555555555556,
              "#d8576b"
             ],
             [
              0.6666666666666666,
              "#ed7953"
             ],
             [
              0.7777777777777778,
              "#fb9f3a"
             ],
             [
              0.8888888888888888,
              "#fdca26"
             ],
             [
              1,
              "#f0f921"
             ]
            ],
            "type": "heatmapgl"
           }
          ],
          "histogram": [
           {
            "marker": {
             "pattern": {
              "fillmode": "overlay",
              "size": 10,
              "solidity": 0.2
             }
            },
            "type": "histogram"
           }
          ],
          "histogram2d": [
           {
            "colorbar": {
             "outlinewidth": 0,
             "ticks": ""
            },
            "colorscale": [
             [
              0,
              "#0d0887"
             ],
             [
              0.1111111111111111,
              "#46039f"
             ],
             [
              0.2222222222222222,
              "#7201a8"
             ],
             [
              0.3333333333333333,
              "#9c179e"
             ],
             [
              0.4444444444444444,
              "#bd3786"
             ],
             [
              0.5555555555555556,
              "#d8576b"
             ],
             [
              0.6666666666666666,
              "#ed7953"
             ],
             [
              0.7777777777777778,
              "#fb9f3a"
             ],
             [
              0.8888888888888888,
              "#fdca26"
             ],
             [
              1,
              "#f0f921"
             ]
            ],
            "type": "histogram2d"
           }
          ],
          "histogram2dcontour": [
           {
            "colorbar": {
             "outlinewidth": 0,
             "ticks": ""
            },
            "colorscale": [
             [
              0,
              "#0d0887"
             ],
             [
              0.1111111111111111,
              "#46039f"
             ],
             [
              0.2222222222222222,
              "#7201a8"
             ],
             [
              0.3333333333333333,
              "#9c179e"
             ],
             [
              0.4444444444444444,
              "#bd3786"
             ],
             [
              0.5555555555555556,
              "#d8576b"
             ],
             [
              0.6666666666666666,
              "#ed7953"
             ],
             [
              0.7777777777777778,
              "#fb9f3a"
             ],
             [
              0.8888888888888888,
              "#fdca26"
             ],
             [
              1,
              "#f0f921"
             ]
            ],
            "type": "histogram2dcontour"
           }
          ],
          "mesh3d": [
           {
            "colorbar": {
             "outlinewidth": 0,
             "ticks": ""
            },
            "type": "mesh3d"
           }
          ],
          "parcoords": [
           {
            "line": {
             "colorbar": {
              "outlinewidth": 0,
              "ticks": ""
             }
            },
            "type": "parcoords"
           }
          ],
          "pie": [
           {
            "automargin": true,
            "type": "pie"
           }
          ],
          "scatter": [
           {
            "marker": {
             "colorbar": {
              "outlinewidth": 0,
              "ticks": ""
             }
            },
            "type": "scatter"
           }
          ],
          "scatter3d": [
           {
            "line": {
             "colorbar": {
              "outlinewidth": 0,
              "ticks": ""
             }
            },
            "marker": {
             "colorbar": {
              "outlinewidth": 0,
              "ticks": ""
             }
            },
            "type": "scatter3d"
           }
          ],
          "scattercarpet": [
           {
            "marker": {
             "colorbar": {
              "outlinewidth": 0,
              "ticks": ""
             }
            },
            "type": "scattercarpet"
           }
          ],
          "scattergeo": [
           {
            "marker": {
             "colorbar": {
              "outlinewidth": 0,
              "ticks": ""
             }
            },
            "type": "scattergeo"
           }
          ],
          "scattergl": [
           {
            "marker": {
             "colorbar": {
              "outlinewidth": 0,
              "ticks": ""
             }
            },
            "type": "scattergl"
           }
          ],
          "scattermapbox": [
           {
            "marker": {
             "colorbar": {
              "outlinewidth": 0,
              "ticks": ""
             }
            },
            "type": "scattermapbox"
           }
          ],
          "scatterpolar": [
           {
            "marker": {
             "colorbar": {
              "outlinewidth": 0,
              "ticks": ""
             }
            },
            "type": "scatterpolar"
           }
          ],
          "scatterpolargl": [
           {
            "marker": {
             "colorbar": {
              "outlinewidth": 0,
              "ticks": ""
             }
            },
            "type": "scatterpolargl"
           }
          ],
          "scatterternary": [
           {
            "marker": {
             "colorbar": {
              "outlinewidth": 0,
              "ticks": ""
             }
            },
            "type": "scatterternary"
           }
          ],
          "surface": [
           {
            "colorbar": {
             "outlinewidth": 0,
             "ticks": ""
            },
            "colorscale": [
             [
              0,
              "#0d0887"
             ],
             [
              0.1111111111111111,
              "#46039f"
             ],
             [
              0.2222222222222222,
              "#7201a8"
             ],
             [
              0.3333333333333333,
              "#9c179e"
             ],
             [
              0.4444444444444444,
              "#bd3786"
             ],
             [
              0.5555555555555556,
              "#d8576b"
             ],
             [
              0.6666666666666666,
              "#ed7953"
             ],
             [
              0.7777777777777778,
              "#fb9f3a"
             ],
             [
              0.8888888888888888,
              "#fdca26"
             ],
             [
              1,
              "#f0f921"
             ]
            ],
            "type": "surface"
           }
          ],
          "table": [
           {
            "cells": {
             "fill": {
              "color": "#EBF0F8"
             },
             "line": {
              "color": "white"
             }
            },
            "header": {
             "fill": {
              "color": "#C8D4E3"
             },
             "line": {
              "color": "white"
             }
            },
            "type": "table"
           }
          ]
         },
         "layout": {
          "annotationdefaults": {
           "arrowcolor": "#2a3f5f",
           "arrowhead": 0,
           "arrowwidth": 1
          },
          "autotypenumbers": "strict",
          "coloraxis": {
           "colorbar": {
            "outlinewidth": 0,
            "ticks": ""
           }
          },
          "colorscale": {
           "diverging": [
            [
             0,
             "#8e0152"
            ],
            [
             0.1,
             "#c51b7d"
            ],
            [
             0.2,
             "#de77ae"
            ],
            [
             0.3,
             "#f1b6da"
            ],
            [
             0.4,
             "#fde0ef"
            ],
            [
             0.5,
             "#f7f7f7"
            ],
            [
             0.6,
             "#e6f5d0"
            ],
            [
             0.7,
             "#b8e186"
            ],
            [
             0.8,
             "#7fbc41"
            ],
            [
             0.9,
             "#4d9221"
            ],
            [
             1,
             "#276419"
            ]
           ],
           "sequential": [
            [
             0,
             "#0d0887"
            ],
            [
             0.1111111111111111,
             "#46039f"
            ],
            [
             0.2222222222222222,
             "#7201a8"
            ],
            [
             0.3333333333333333,
             "#9c179e"
            ],
            [
             0.4444444444444444,
             "#bd3786"
            ],
            [
             0.5555555555555556,
             "#d8576b"
            ],
            [
             0.6666666666666666,
             "#ed7953"
            ],
            [
             0.7777777777777778,
             "#fb9f3a"
            ],
            [
             0.8888888888888888,
             "#fdca26"
            ],
            [
             1,
             "#f0f921"
            ]
           ],
           "sequentialminus": [
            [
             0,
             "#0d0887"
            ],
            [
             0.1111111111111111,
             "#46039f"
            ],
            [
             0.2222222222222222,
             "#7201a8"
            ],
            [
             0.3333333333333333,
             "#9c179e"
            ],
            [
             0.4444444444444444,
             "#bd3786"
            ],
            [
             0.5555555555555556,
             "#d8576b"
            ],
            [
             0.6666666666666666,
             "#ed7953"
            ],
            [
             0.7777777777777778,
             "#fb9f3a"
            ],
            [
             0.8888888888888888,
             "#fdca26"
            ],
            [
             1,
             "#f0f921"
            ]
           ]
          },
          "colorway": [
           "#636efa",
           "#EF553B",
           "#00cc96",
           "#ab63fa",
           "#FFA15A",
           "#19d3f3",
           "#FF6692",
           "#B6E880",
           "#FF97FF",
           "#FECB52"
          ],
          "font": {
           "color": "#2a3f5f"
          },
          "geo": {
           "bgcolor": "white",
           "lakecolor": "white",
           "landcolor": "#E5ECF6",
           "showlakes": true,
           "showland": true,
           "subunitcolor": "white"
          },
          "hoverlabel": {
           "align": "left"
          },
          "hovermode": "closest",
          "mapbox": {
           "style": "light"
          },
          "paper_bgcolor": "white",
          "plot_bgcolor": "#E5ECF6",
          "polar": {
           "angularaxis": {
            "gridcolor": "white",
            "linecolor": "white",
            "ticks": ""
           },
           "bgcolor": "#E5ECF6",
           "radialaxis": {
            "gridcolor": "white",
            "linecolor": "white",
            "ticks": ""
           }
          },
          "scene": {
           "xaxis": {
            "backgroundcolor": "#E5ECF6",
            "gridcolor": "white",
            "gridwidth": 2,
            "linecolor": "white",
            "showbackground": true,
            "ticks": "",
            "zerolinecolor": "white"
           },
           "yaxis": {
            "backgroundcolor": "#E5ECF6",
            "gridcolor": "white",
            "gridwidth": 2,
            "linecolor": "white",
            "showbackground": true,
            "ticks": "",
            "zerolinecolor": "white"
           },
           "zaxis": {
            "backgroundcolor": "#E5ECF6",
            "gridcolor": "white",
            "gridwidth": 2,
            "linecolor": "white",
            "showbackground": true,
            "ticks": "",
            "zerolinecolor": "white"
           }
          },
          "shapedefaults": {
           "line": {
            "color": "#2a3f5f"
           }
          },
          "ternary": {
           "aaxis": {
            "gridcolor": "white",
            "linecolor": "white",
            "ticks": ""
           },
           "baxis": {
            "gridcolor": "white",
            "linecolor": "white",
            "ticks": ""
           },
           "bgcolor": "#E5ECF6",
           "caxis": {
            "gridcolor": "white",
            "linecolor": "white",
            "ticks": ""
           }
          },
          "title": {
           "x": 0.05
          },
          "xaxis": {
           "automargin": true,
           "gridcolor": "white",
           "linecolor": "white",
           "ticks": "",
           "title": {
            "standoff": 15
           },
           "zerolinecolor": "white",
           "zerolinewidth": 2
          },
          "yaxis": {
           "automargin": true,
           "gridcolor": "white",
           "linecolor": "white",
           "ticks": "",
           "title": {
            "standoff": 15
           },
           "zerolinecolor": "white",
           "zerolinewidth": 2
          }
         }
        },
        "title": {
         "text": "The Importance Of The Original Attributes On Our Prediction"
        },
        "xaxis": {
         "title": {
          "text": "Model"
         }
        },
        "yaxis": {
         "title": {
          "text": "Accuracy"
         }
        }
       }
      }
     },
     "metadata": {},
     "output_type": "display_data"
    }
   ],
   "source": [
    "fig = go.Figure()\n",
    "fig.add_trace(go.Bar(x=X.columns,y=RF_PIPE['DT'].feature_importances_))\n",
    "fig.update_layout(title='The Importance Of The Original Attributes On Our Prediction',xaxis_title='Model',yaxis_title='Accuracy')\n",
    "fig.show()"
   ]
  },
  {
   "cell_type": "code",
   "execution_count": null,
   "metadata": {},
   "outputs": [],
   "source": []
  }
 ],
 "metadata": {
  "interpreter": {
   "hash": "916dbcbb3f70747c44a77c7bcd40155683ae19c65e1c03b4aa3499c5328201f1"
  },
  "kernelspec": {
   "display_name": "Python 3.8.10 64-bit",
   "language": "python",
   "name": "python3"
  },
  "language_info": {
   "codemirror_mode": {
    "name": "ipython",
    "version": 3
   },
   "file_extension": ".py",
   "mimetype": "text/x-python",
   "name": "python",
   "nbconvert_exporter": "python",
   "pygments_lexer": "ipython3",
   "version": "3.8.10"
  },
  "orig_nbformat": 4
 },
 "nbformat": 4,
 "nbformat_minor": 2
}
