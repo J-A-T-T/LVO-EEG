{
 "cells": [
  {
   "cell_type": "code",
   "execution_count": 1,
   "metadata": {},
   "outputs": [
    {
     "name": "stdout",
     "output_type": "stream",
     "text": [
      "clinical_data.py\n",
      "clinical.py\n",
      "data\n",
      "eegnet.py\n",
      "lstm.py\n",
      "lvo-eeg\n",
      "models\n",
      "notebook\n",
      "output.png\n",
      "preprocessing.ipynb\n",
      "preprocessing-jvsc-2818f901-e921-4342-add3-bb89b9f9add6.ipynb\n",
      "preprocessing_overhead.py\n",
      "preprocessing.py\n",
      "pretrained\n",
      "__pycache__\n",
      "README.md\n",
      "requirement.txt\n",
      "run_LSTM.ipynb\n",
      "test.ipynb\n",
      "train.py\n",
      "utils\n"
     ]
    }
   ],
   "source": [
    "!ls"
   ]
  },
  {
   "cell_type": "code",
   "execution_count": 2,
   "metadata": {},
   "outputs": [
    {
     "name": "stdout",
     "output_type": "stream",
     "text": [
      "cpu\n",
      "Epoch 0: | Train Acc: 34.78260869565217 | Test Acc: 39.130434782608695\n",
      "Epoch 1: | Train Acc: 34.78260869565217 | Test Acc: 39.130434782608695\n",
      "Epoch 2: | Train Acc: 34.78260869565217 | Test Acc: 39.130434782608695\n",
      "Epoch 3: | Train Acc: 33.69565217391305 | Test Acc: 39.130434782608695\n",
      "Epoch 4: | Train Acc: 34.78260869565217 | Test Acc: 39.130434782608695\n",
      "^C\n",
      "Traceback (most recent call last):\n",
      "  File \"lstm.py\", line 167, in <module>\n",
      "    main(lr, num_epoch, batch_size, num_layers)\n",
      "  File \"lstm.py\", line 115, in main\n",
      "    test_outputs = lstm(test_inputs)\n",
      "  File \"/home/thang/Documents/LVO-EEG/lvo-eeg/lib/python3.8/site-packages/torch/nn/modules/module.py\", line 1110, in _call_impl\n",
      "    return forward_call(*input, **kwargs)\n",
      "  File \"/home/thang/Documents/LVO-EEG/models/lstm.py\", line 26, in forward\n",
      "    output, (hn, cn) = self.lstm(x, (h_0, c_0)) #lstm with input, hidden, and internal state\n",
      "  File \"/home/thang/Documents/LVO-EEG/lvo-eeg/lib/python3.8/site-packages/torch/nn/modules/module.py\", line 1110, in _call_impl\n",
      "    return forward_call(*input, **kwargs)\n",
      "  File \"/home/thang/Documents/LVO-EEG/lvo-eeg/lib/python3.8/site-packages/torch/nn/modules/rnn.py\", line 761, in forward\n",
      "    result = _VF.lstm(input, hx, self._flat_weights, self.bias, self.num_layers,\n",
      "KeyboardInterrupt\n"
     ]
    }
   ],
   "source": [
    "!python lstm.py"
   ]
  },
  {
   "cell_type": "code",
   "execution_count": null,
   "metadata": {},
   "outputs": [],
   "source": []
  }
 ],
 "metadata": {
  "interpreter": {
   "hash": "25457293ddcc1552eea7aaf340c96df1a41a9e8bbb9ffe5cd60d9ee4637c12aa"
  },
  "kernelspec": {
   "display_name": "Python 3.8.10 ('lvo-eeg': venv)",
   "language": "python",
   "name": "python3"
  },
  "language_info": {
   "codemirror_mode": {
    "name": "ipython",
    "version": 3
   },
   "file_extension": ".py",
   "mimetype": "text/x-python",
   "name": "python",
   "nbconvert_exporter": "python",
   "pygments_lexer": "ipython3",
   "version": "3.8.10"
  },
  "orig_nbformat": 4
 },
 "nbformat": 4,
 "nbformat_minor": 2
}
