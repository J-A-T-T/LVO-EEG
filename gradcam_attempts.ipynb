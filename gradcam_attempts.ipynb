{
 "cells": [
  {
   "cell_type": "code",
   "execution_count": 2,
   "metadata": {},
   "outputs": [],
   "source": [
    "import numpy as np\n",
    "import matplotlib.pyplot as plt\n",
    "import torch\n"
   ]
  },
  {
   "cell_type": "code",
   "execution_count": 3,
   "metadata": {},
   "outputs": [],
   "source": [
    "def get_data(idx):\n",
    "    return [np.expand_dims(train_x[0][idx], axis=0), np.expand_dims(train_x[1].iloc[idx].values, axis=0)]"
   ]
  },
  {
   "cell_type": "code",
   "execution_count": 4,
   "metadata": {},
   "outputs": [],
   "source": [
    "def make_gradcam_heatmap(inp, model, index):\n",
    "    \n",
    "    grad_model = tf.keras.models.Model(\n",
    "        [model.inputs], [model.layers[index].output, model.output]\n",
    "    )\n",
    "\n",
    "    with tf.GradientTape() as tape:\n",
    "        last_conv_layer_output, preds = grad_model(inp)\n",
    "        \n",
    "    grads = tape.gradient(preds, last_conv_layer_output)\n",
    "\n",
    "   \n",
    "    pooled_grads = tf.reduce_mean(grads, axis=(0, 1, 2))\n",
    "\n",
    "\n",
    "    last_conv_layer_output = last_conv_layer_output[0]\n",
    "    heatmap = last_conv_layer_output * pooled_grads[..., tf.newaxis]\n",
    "    heatmap = tf.squeeze(heatmap)\n",
    "\n",
    "    # For visualization purpose, we will also normalize the heatmap between 0 & 1\n",
    "    heatmap = tf.maximum(heatmap, 0) / tf.math.reduce_max(heatmap)\n",
    "    \n",
    "    return heatmap.numpy().sum(axis=-1).reshape(1, -1)"
   ]
  },
  {
   "cell_type": "code",
   "execution_count": null,
   "metadata": {},
   "outputs": [],
   "source": [
    "def grad_cam(idx):\n",
    "    _d = {0:\"male\", 1:\"female\"}\n",
    "    pred = model.predict(get_data(idx))\n",
    "    label = train_y[idx]\n",
    "    print('pred:', pred, 'label:', label, '(label_type:', train.iloc[idx]['label_type'], ')')\n",
    "    print('sex:', _d[train_x[1].iloc[idx]['sex']])\n",
    "    print('age:', train_x[1].iloc[idx]['age'])\n",
    "    lead_list = ['I', 'II', 'III', 'aVR', 'aVL', 'aVF', 'V1', 'V2', 'V3', 'V4', 'V5', 'V6']\n",
    "    data = get_data(idx)\n",
    "    heatmap = make_gradcam_heatmap(get_data(idx), model,  -7)\n",
    "    \n",
    "    for i in range(12):\n",
    "        fig = plt.figure()\n",
    "        ax = fig.add_subplot(1, 1, 1)\n",
    "        ax.set_ylim([-1.5, 1.5])\n",
    "        ax.set_xlim([0, 800])\n",
    "        ax.set_title(lead_list[i])\n",
    "        ax.plot(get_data(10)[0][0][:, i], color='b')\n",
    "        xlim = ax.get_xlim()\n",
    "        ylim = ax.get_ylim()\n",
    "        ax.imshow(heatmap, extent=[*xlim, *ylim], cmap='Reds', alpha=0.8, aspect=100)\n",
    "        plt.grid(False)\n",
    "        plt.show()\n",
    "        9 "
   ]
  }
 ],
 "metadata": {
  "interpreter": {
   "hash": "12be46d3898c37c234e9b97e67ef347f3e796714a49df4f98c33bf5b676299e8"
  },
  "kernelspec": {
   "display_name": "Python 3.9.4 64-bit",
   "language": "python",
   "name": "python3"
  },
  "language_info": {
   "codemirror_mode": {
    "name": "ipython",
    "version": 3
   },
   "file_extension": ".py",
   "mimetype": "text/x-python",
   "name": "python",
   "nbconvert_exporter": "python",
   "pygments_lexer": "ipython3",
   "version": "3.9.4"
  },
  "orig_nbformat": 4
 },
 "nbformat": 4,
 "nbformat_minor": 2
}
